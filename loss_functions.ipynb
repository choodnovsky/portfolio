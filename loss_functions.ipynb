{
 "cells": [
  {
   "cell_type": "markdown",
   "id": "8c6840f5",
   "metadata": {},
   "source": [
    "1. Загрузить данные. В данных оставить только 2 класса: Iris Versicolor, Iris Virginica.  \n",
    "2. Самостоятельно реализовать логистическую регрессию, без использования метода LogisticRegression из библиотеки. Оформить в виде функции.\n",
    "3. Реализовать метод градиентного спуска.\n",
    "4. Повторить п. 3 для метода скользящего среднего (Root Mean Square Propagation, RMSProp).\n",
    "5. Повторить п. 3 для ускоренного по Нестерову метода адаптивной оценки моментов (Nesterov–accelerated Adaptive Moment Estimation, Nadam).\n",
    "6. Сравнить значение метрик для реализованных методов оптимизации."
   ]
  },
  {
   "cell_type": "code",
   "execution_count": 1,
   "id": "121972f1-09e6-4b3c-8fbd-6920f3ef3b70",
   "metadata": {},
   "outputs": [],
   "source": [
    "import numpy as np\n",
    "import pandas as pd\n",
    "from sklearn.metrics import accuracy_score\n",
    "from sklearn.model_selection import train_test_split\n",
    "import matplotlib.pyplot as plt\n",
    "from random import sample, seed"
   ]
  },
  {
   "cell_type": "code",
   "execution_count": 2,
   "id": "7703492c",
   "metadata": {},
   "outputs": [],
   "source": [
    "data = pd.read_csv('https://gist.githubusercontent.com/netj/8836201/raw/\\\n",
    "6f9306ad21398ea43cba4f7d537619d0e07d5ae3/iris.csv')"
   ]
  },
  {
   "cell_type": "markdown",
   "id": "934fefeb",
   "metadata": {},
   "source": [
    "### 1. Предобработка данных"
   ]
  },
  {
   "cell_type": "code",
   "execution_count": 3,
   "id": "b51e1899",
   "metadata": {},
   "outputs": [],
   "source": [
    "data = data.loc[data['variety'] != 'Setosa']"
   ]
  },
  {
   "cell_type": "code",
   "execution_count": 4,
   "id": "d834ad65",
   "metadata": {},
   "outputs": [
    {
     "data": {
      "text/html": [
       "<div>\n",
       "<style scoped>\n",
       "    .dataframe tbody tr th:only-of-type {\n",
       "        vertical-align: middle;\n",
       "    }\n",
       "\n",
       "    .dataframe tbody tr th {\n",
       "        vertical-align: top;\n",
       "    }\n",
       "\n",
       "    .dataframe thead th {\n",
       "        text-align: right;\n",
       "    }\n",
       "</style>\n",
       "<table border=\"1\" class=\"dataframe\">\n",
       "  <thead>\n",
       "    <tr style=\"text-align: right;\">\n",
       "      <th></th>\n",
       "      <th>sepal.length</th>\n",
       "      <th>sepal.width</th>\n",
       "      <th>petal.length</th>\n",
       "      <th>petal.width</th>\n",
       "      <th>variety</th>\n",
       "    </tr>\n",
       "  </thead>\n",
       "  <tbody>\n",
       "    <tr>\n",
       "      <th>50</th>\n",
       "      <td>7.0</td>\n",
       "      <td>3.2</td>\n",
       "      <td>4.7</td>\n",
       "      <td>1.4</td>\n",
       "      <td>Versicolor</td>\n",
       "    </tr>\n",
       "    <tr>\n",
       "      <th>51</th>\n",
       "      <td>6.4</td>\n",
       "      <td>3.2</td>\n",
       "      <td>4.5</td>\n",
       "      <td>1.5</td>\n",
       "      <td>Versicolor</td>\n",
       "    </tr>\n",
       "    <tr>\n",
       "      <th>52</th>\n",
       "      <td>6.9</td>\n",
       "      <td>3.1</td>\n",
       "      <td>4.9</td>\n",
       "      <td>1.5</td>\n",
       "      <td>Versicolor</td>\n",
       "    </tr>\n",
       "    <tr>\n",
       "      <th>53</th>\n",
       "      <td>5.5</td>\n",
       "      <td>2.3</td>\n",
       "      <td>4.0</td>\n",
       "      <td>1.3</td>\n",
       "      <td>Versicolor</td>\n",
       "    </tr>\n",
       "    <tr>\n",
       "      <th>54</th>\n",
       "      <td>6.5</td>\n",
       "      <td>2.8</td>\n",
       "      <td>4.6</td>\n",
       "      <td>1.5</td>\n",
       "      <td>Versicolor</td>\n",
       "    </tr>\n",
       "  </tbody>\n",
       "</table>\n",
       "</div>"
      ],
      "text/plain": [
       "    sepal.length  sepal.width  petal.length  petal.width     variety\n",
       "50           7.0          3.2           4.7          1.4  Versicolor\n",
       "51           6.4          3.2           4.5          1.5  Versicolor\n",
       "52           6.9          3.1           4.9          1.5  Versicolor\n",
       "53           5.5          2.3           4.0          1.3  Versicolor\n",
       "54           6.5          2.8           4.6          1.5  Versicolor"
      ]
     },
     "metadata": {},
     "output_type": "display_data"
    },
    {
     "data": {
      "text/plain": [
       "(100, 5)"
      ]
     },
     "metadata": {},
     "output_type": "display_data"
    }
   ],
   "source": [
    "display(data.head())\n",
    "display(data.shape)"
   ]
  },
  {
   "cell_type": "code",
   "execution_count": 5,
   "id": "903ed20c",
   "metadata": {},
   "outputs": [],
   "source": [
    "data['variety'] = data['variety'].map({'Versicolor': 0, 'Virginica': 1})\n",
    "y = np.array(data['variety'])\n",
    "X = np.array(data.drop(['variety'], axis = 1))\n",
    "X_upd = np.c_[np.ones(X.shape[0]), X]"
   ]
  },
  {
   "cell_type": "markdown",
   "id": "7eed2e95",
   "metadata": {},
   "source": [
    "### Базовые функции"
   ]
  },
  {
   "cell_type": "markdown",
   "id": "1ad1ad0e",
   "metadata": {},
   "source": [
    "__Сигмоида__  \n",
    "\n",
    "$$f(z) = \\frac{1}{1 + \\exp^{-z}}$$"
   ]
  },
  {
   "cell_type": "code",
   "execution_count": 6,
   "id": "2c54ea52",
   "metadata": {},
   "outputs": [],
   "source": [
    "def sigmoid(z):\n",
    "    return 1 / (1 + np.exp(-z))"
   ]
  },
  {
   "cell_type": "markdown",
   "id": "6b390a09",
   "metadata": {},
   "source": [
    "__Предсказание__"
   ]
  },
  {
   "cell_type": "code",
   "execution_count": 7,
   "id": "5ad60a6a",
   "metadata": {},
   "outputs": [],
   "source": [
    "def predict(X, theta):\n",
    "    '''Возвращает предсказываемое значение y при текущих коэффициентах в диапазоне от 0 до 1'''\n",
    "    return sigmoid(np.dot(X, theta))"
   ]
  },
  {
   "cell_type": "markdown",
   "id": "9683e8fb",
   "metadata": {},
   "source": [
    "__Бинарная кросс-энтропия__ _(Функция потерь)_\n",
    "\n",
    "$$J = -\\sum_{i=1}^{N} y_i\\log (h_\\theta(x_i) + \\epsilon) + (1 - y_i + \\epsilon)\\log(1 - h_\\theta(x_i) + \\epsilon)$$"
   ]
  },
  {
   "cell_type": "code",
   "execution_count": 8,
   "id": "dd6e1d31",
   "metadata": {},
   "outputs": [],
   "source": [
    "def cost_function(X, y, theta):\n",
    "    eps = 1e-6\n",
    "    y_pred = predict(X, theta)\n",
    "    err = - (y * np.log(y_pred + eps) + (1 - y + eps) * np.log(1 - y_pred + eps))\n",
    "    err = np.sum(err)\n",
    "    return err"
   ]
  },
  {
   "cell_type": "markdown",
   "id": "eb0d6f43",
   "metadata": {},
   "source": [
    "### Gradient descent (простой градиентный спуск)"
   ]
  },
  {
   "cell_type": "markdown",
   "id": "5be329be",
   "metadata": {},
   "source": [
    "__Обновление весов__  \n",
    "1. Получаем число наблюдений и количество весов (длину массива весов)\n",
    "2. Делаем предикт по текущим весам\n",
    "3. В цикле для каждого веса получаем градиент `dt`\n",
    "4. Сдвигаем текущий вес на шаг градиента\n",
    "5. В массив весов в каждому индексу кладем обновленный вес"
   ]
  },
  {
   "cell_type": "markdown",
   "id": "877677fd",
   "metadata": {},
   "source": [
    "$$\\frac{d Loss}{d w_i} = (\\sigma(w*x_i) - y_i)x_{ij}$$"
   ]
  },
  {
   "cell_type": "code",
   "execution_count": 9,
   "id": "995b6b88",
   "metadata": {},
   "outputs": [],
   "source": [
    "def update_theta_GD(X, y, theta, lr):\n",
    "    n, M = X.shape\n",
    "    current_predict = predict(X, theta)\n",
    "    for i in range(len(theta)):\n",
    "        current_theta = theta[i]\n",
    "        dt = (np.dot(current_predict - y, X[:, i])) / n\n",
    "        current_theta -= lr * dt\n",
    "        np.put(theta, [i], current_theta) # put заменяет элементы массива по указанному индексу заданными значениями\n",
    "    return theta"
   ]
  },
  {
   "cell_type": "markdown",
   "id": "a276a436",
   "metadata": {},
   "source": [
    "__Объединяем все в одну функцию__  \n",
    "1. В таблицу с признаками добавляем вектор интерсепта(свободного члена) состоящий из единиц\n",
    "2. Генерим массив стартовых весов состоящий из единиц\n",
    "3. В цикле для каждой из эпох (прогонов) делаем следующее:  \n",
    "    a. Обновляем веса\n",
    "    b. Рассчитываем функцию потерь на текущих весах\n",
    "    c. Собираем текущее значение функции потерь в список\n",
    "4. Выводим график функции потерь (с ростом числа эпох он должен выравниваться параллельно оси Х. Т.е мы нашли минимум)\n",
    "5. Возвращаем массив последних весов\n",
    "6. График можно и не выводить"
   ]
  },
  {
   "cell_type": "code",
   "execution_count": 10,
   "id": "8fd70bbc",
   "metadata": {},
   "outputs": [],
   "source": [
    "def model_training_GD(X, y, lr = 0.01, epochs = 5000, ptint_plot=False):\n",
    "    X_upd = np.c_[np.ones(X.shape[0]), X]\n",
    "    theta = np.ones(X_upd.shape[1])\n",
    "    costs = []\n",
    "    for epoch in range(epochs):\n",
    "        theta = update_theta_GD(X_upd, y, theta, lr)\n",
    "        cost = cost_function(X_upd, y, theta)\n",
    "        costs.append(cost)\n",
    "    if ptint_plot:\n",
    "        plt.plot(range(epochs), costs)\n",
    "        plt.xlabel(\"epoch\")\n",
    "        plt.ylabel(\"cost\")\n",
    "        plt.title(\"cost curve\")\n",
    "    return theta"
   ]
  },
  {
   "cell_type": "code",
   "execution_count": 11,
   "id": "55985fa7",
   "metadata": {},
   "outputs": [
    {
     "name": "stdout",
     "output_type": "stream",
     "text": [
      "CPU times: user 1e+03 ns, sys: 1e+03 ns, total: 2 µs\n",
      "Wall time: 3.81 µs\n"
     ]
    },
    {
     "data": {
      "text/plain": [
       "array([-0.2780421 , -2.02585336, -1.36111623,  2.50473437,  2.79516719])"
      ]
     },
     "execution_count": 11,
     "metadata": {},
     "output_type": "execute_result"
    },
    {
     "data": {
      "image/png": "[encoded data removed]",
      "text/plain": [
       "<Figure size 640x480 with 1 Axes>"
      ]
     },
     "metadata": {},
     "output_type": "display_data"
    }
   ],
   "source": [
    "%time\n",
    "theta = model_training_GD(X, y, ptint_plot=True)\n",
    "theta"
   ]
  },
  {
   "cell_type": "code",
   "execution_count": 12,
   "id": "7dbfe8e9",
   "metadata": {},
   "outputs": [
    {
     "name": "stdout",
     "output_type": "stream",
     "text": [
      "Accuracy: 0.96\n"
     ]
    }
   ],
   "source": [
    "y_pred = predict(X_upd, theta)\n",
    "y_pred = [0 if y < 0.5 else 1 for y in y_pred]\n",
    "\n",
    "print(f'Accuracy: {accuracy_score(y, y_pred)}')"
   ]
  },
  {
   "cell_type": "markdown",
   "id": "1ff0d1c7",
   "metadata": {},
   "source": [
    "### Root Mean Square Propagation, RMSProp"
   ]
  },
  {
   "cell_type": "code",
   "execution_count": 13,
   "id": "2934b545",
   "metadata": {},
   "outputs": [],
   "source": [
    "def update_theta_RMSP(X, y, theta, eg, lr, gamma = 0.9):\n",
    "    eps = 1e-6\n",
    "    n, M = X.shape\n",
    "    current_predict = predict(X, theta)\n",
    "    for i in range(len(theta)):\n",
    "        dt = (np.dot(current_predict - y, X[:, i])) / n\n",
    "        current_theta = theta[i]\n",
    "        current_eg = gamma * eg[i] + (1 - gamma) * (dt**2)\n",
    "        current_theta -= lr * dt/np.sqrt(current_eg + eps)\n",
    "        np.put(eg, [i], current_eg)\n",
    "        np.put(theta, [i], current_theta) # put заменяет элементы массива по указанному индексу заданными значениями\n",
    "    return theta"
   ]
  },
  {
   "cell_type": "code",
   "execution_count": 14,
   "id": "3764c0ac",
   "metadata": {},
   "outputs": [],
   "source": [
    "def model_training_RMSP(X, y, lr = 0.01, epochs = 5000, ptint_plot=False):\n",
    "    X_upd = np.c_[np.ones(X.shape[0]), X]\n",
    "    theta = np.ones(X_upd.shape[1])\n",
    "    eg = np.ones(X_upd.shape[1])\n",
    "    costs = []\n",
    "    for epoch in range(epochs):\n",
    "        theta = update_theta_RMSP(X_upd, y, theta, eg, lr)\n",
    "        cost = cost_function(X_upd, y, theta)\n",
    "        costs.append(cost)\n",
    "    if ptint_plot:\n",
    "        plt.plot(range(epochs), costs)\n",
    "        plt.xlabel(\"epoch\")\n",
    "        plt.ylabel(\"cost\")\n",
    "        plt.title(\"cost curve\")\n",
    "    return theta"
   ]
  },
  {
   "cell_type": "code",
   "execution_count": 15,
   "id": "13eeaad7",
   "metadata": {},
   "outputs": [
    {
     "name": "stdout",
     "output_type": "stream",
     "text": [
      "CPU times: user 2 µs, sys: 0 ns, total: 2 µs\n",
      "Wall time: 5.01 µs\n"
     ]
    },
    {
     "data": {
      "text/plain": [
       "array([-21.59543156,  -3.04512719,  -5.06054259,   7.00631015,\n",
       "        12.34138249])"
      ]
     },
     "execution_count": 15,
     "metadata": {},
     "output_type": "execute_result"
    },
    {
     "data": {
      "image/png": "[encoded data removed]",
      "text/plain": [
       "<Figure size 640x480 with 1 Axes>"
      ]
     },
     "metadata": {},
     "output_type": "display_data"
    }
   ],
   "source": [
    "%time\n",
    "theta = model_training_RMSP(X, y, ptint_plot=True)\n",
    "theta"
   ]
  },
  {
   "cell_type": "code",
   "execution_count": 16,
   "id": "a305e412",
   "metadata": {},
   "outputs": [
    {
     "name": "stdout",
     "output_type": "stream",
     "text": [
      "Accuracy: 0.97\n"
     ]
    }
   ],
   "source": [
    "y_pred = predict(X_upd, theta)\n",
    "y_pred = [0 if y < 0.5 else 1 for y in y_pred]\n",
    "\n",
    "print(f'Accuracy: {accuracy_score(y, y_pred)}')"
   ]
  },
  {
   "cell_type": "markdown",
   "id": "0bf53790",
   "metadata": {},
   "source": [
    "### Nesterov–accelerated Adaptive Moment Estimation, Nadam"
   ]
  },
  {
   "cell_type": "code",
   "execution_count": 17,
   "id": "1f0e3959",
   "metadata": {},
   "outputs": [],
   "source": [
    "def update_theta_NADAM(X, y, theta, v, lr, gamma = 0.9):\n",
    "    eps = 1e-6\n",
    "    n, M = X.shape\n",
    "    current_predict = predict(X, theta)\n",
    "    for i in range(len(theta)):\n",
    "        dt = (np.dot(current_predict - y, X[:, i])) / n\n",
    "        current_theta = theta[i]\n",
    "        current_v = gamma * v[i] + lr * dt\n",
    "        current_theta -= current_v\n",
    "        np.put(v, [i], current_v)\n",
    "        np.put(theta, [i], current_theta) # put заменяет элементы массива по указанному индексу заданными значениями\n",
    "    return theta"
   ]
  },
  {
   "cell_type": "code",
   "execution_count": 18,
   "id": "7197c93d",
   "metadata": {},
   "outputs": [],
   "source": [
    "def model_training_NADAM(X, y, lr = 0.01, epochs = 5000, ptint_plot=False):\n",
    "    X_upd = np.c_[np.ones(X.shape[0]), X]\n",
    "    theta = np.ones(X_upd.shape[1])\n",
    "    v = np.ones(X_upd.shape[1])\n",
    "    costs = []\n",
    "    for epoch in range(epochs):\n",
    "        theta = update_theta_NADAM(X_upd, y, theta, v, lr)\n",
    "        cost = cost_function(X_upd, y, theta)\n",
    "        costs.append(cost)\n",
    "    if ptint_plot:\n",
    "        plt.plot(range(epochs), costs)\n",
    "        plt.xlabel(\"epoch\")\n",
    "        plt.ylabel(\"cost\")\n",
    "        plt.title(\"cost curve\")\n",
    "    return theta"
   ]
  },
  {
   "cell_type": "code",
   "execution_count": 19,
   "id": "8e2d6326",
   "metadata": {},
   "outputs": [
    {
     "name": "stdout",
     "output_type": "stream",
     "text": [
      "CPU times: user 1 µs, sys: 0 ns, total: 1 µs\n",
      "Wall time: 3.1 µs\n"
     ]
    },
    {
     "data": {
      "text/plain": [
       "array([-8.68333514, -3.13675432, -3.24591915,  5.79581651,  5.46437119])"
      ]
     },
     "execution_count": 19,
     "metadata": {},
     "output_type": "execute_result"
    },
    {
     "data": {
      "image/png": "[encoded data removed]",
      "text/plain": [
       "<Figure size 640x480 with 1 Axes>"
      ]
     },
     "metadata": {},
     "output_type": "display_data"
    }
   ],
   "source": [
    "%time\n",
    "theta = model_training_NADAM(X, y, ptint_plot=True)\n",
    "theta"
   ]
  },
  {
   "cell_type": "code",
   "execution_count": 20,
   "id": "577be057",
   "metadata": {},
   "outputs": [
    {
     "name": "stdout",
     "output_type": "stream",
     "text": [
      "Accuracy: 0.97\n"
     ]
    }
   ],
   "source": [
    "y_pred = predict(X_upd, theta)\n",
    "y_pred = [0 if y < 0.5 else 1 for y in y_pred]\n",
    "\n",
    "print(f'Accuracy: {accuracy_score(y, y_pred)}')"
   ]
  }
 ],
 "metadata": {
  "kernelspec": {
   "display_name": "Python 3 (ipykernel)",
   "language": "python",
   "name": "python3"
  },
  "language_info": {
   "codemirror_mode": {
    "name": "ipython",
    "version": 3
   },
   "file_extension": ".py",
   "mimetype": "text/x-python",
   "name": "python",
   "nbconvert_exporter": "python",
   "pygments_lexer": "ipython3",
   "version": "3.9.16"
  },
  "vscode": {
   "interpreter": {
    "hash": "b0fa6594d8f4cbf19f97940f81e996739fb7646882a419484c72d19e05852a7e"
   }
  }
 },
 "nbformat": 4,
 "nbformat_minor": 5
}

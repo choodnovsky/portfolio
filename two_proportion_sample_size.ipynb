{
 "cells": [
  {
   "cell_type": "code",
   "execution_count": 1,
   "metadata": {
    "id": "DppOJImFcC2d"
   },
   "outputs": [],
   "source": [
    "import pandas as pd\n",
    "import numpy as np\n",
    "from scipy.stats import norm\n",
    "import statsmodels.stats.api as sms\n",
    "from statsmodels.stats.proportion import proportions_ztest\n",
    "from tqdm.notebook import tqdm"
   ]
  },
  {
   "cell_type": "code",
   "execution_count": 2,
   "metadata": {
    "id": "hxFyp22rcGDG"
   },
   "outputs": [],
   "source": [
    "def get_sample_size(p1, p2, alpha=0.05, power=0.8, r=1):\n",
    "    p_bar = (p1 + r * p2)/(r + 1)\n",
    "    q_bar = 1 - p_bar\n",
    "    s = np.abs(p1 - p2)\n",
    "\n",
    "    q1 = 1 - p1\n",
    "    q2 = 1 - p2\n",
    "\n",
    "    z_alpha = norm.ppf(1 - alpha/2)\n",
    "    z_beta = norm.ppf(power)\n",
    "\n",
    "    m = ((z_alpha * np.sqrt((r + 1) * p_bar * q_bar) +\n",
    "        z_beta * np.sqrt(r * p1 * q1 + p2 * q2))**2/\n",
    "        (r * s ** 2))\n",
    "\n",
    "    return m,  m * r"
   ]
  },
  {
   "cell_type": "markdown",
   "metadata": {
    "id": "8D-dceUymyWF"
   },
   "source": [
    "Возьмем например базовый уровень 0.2 и разницу в 5%"
   ]
  },
  {
   "cell_type": "code",
   "execution_count": 3,
   "metadata": {
    "colab": {
     "base_uri": "https://localhost:8080/",
     "height": 34
    },
    "id": "35mY-vDGdUf_",
    "outputId": "74b55c18-7a0c-4492-d570-3b5de4726397"
   },
   "outputs": [
    {
     "data": {
      "text/plain": [
       "(1093.7390457661654, 1093.7390457661654)"
      ]
     },
     "execution_count": 3,
     "metadata": {},
     "output_type": "execute_result"
    }
   ],
   "source": [
    "get_sample_size(0.20,0.25)"
   ]
  },
  {
   "cell_type": "markdown",
   "metadata": {
    "id": "xpFIJwCKn0EM"
   },
   "source": [
    "Теперь еще посчитаем функцией из statmodels. https://www.statsmodels.org/stable/generated/statsmodels.stats.power.tt_ind_solve_power.html"
   ]
  },
  {
   "cell_type": "code",
   "execution_count": 4,
   "metadata": {
    "colab": {
     "base_uri": "https://localhost:8080/",
     "height": 88
    },
    "id": "bCkGB1WCdmA3",
    "outputId": "b1553782-fcf4-42ac-da44-e0da394539db"
   },
   "outputs": [
    {
     "data": {
      "text/plain": [
       "1091.8961587171991"
      ]
     },
     "execution_count": 4,
     "metadata": {},
     "output_type": "execute_result"
    }
   ],
   "source": [
    "es = sms.proportion_effectsize(0.20, 0.25)\n",
    "sms.NormalIndPower().solve_power(es, power=0.80, alpha=0.05, ratio=1)"
   ]
  },
  {
   "cell_type": "markdown",
   "metadata": {
    "id": "eLKflD4The0A"
   },
   "source": [
    "Тут прям вообще супер сходится. Принимая решение я бы в этом случае округлил бы до 1100. И мне бы точно хватило наблюдений для получения это разницы."
   ]
  },
  {
   "cell_type": "markdown",
   "metadata": {
    "id": "8xfeTx_CoQWw"
   },
   "source": [
    "Еще можем проверить это с помощью бутстрепа."
   ]
  },
  {
   "cell_type": "code",
   "execution_count": 5,
   "metadata": {
    "colab": {
     "base_uri": "https://localhost:8080/",
     "height": 66,
     "referenced_widgets": [
      "cb159ea341314f6594a48506d49e224e",
      "6bc9f48e81714468a448814846be4105",
      "16cdb2582de1446fa72db1d9e202adb3",
      "37b68837f3db43e8ab7f782590bccb9f",
      "48a911a4cd17407b9da770e3d298926f",
      "244e5bf8763d4c35a217fff9caaf9bb8",
      "70c78f0fea184573896eea1b15a9d7c2",
      "9215bf223c1f41da80a9556537957244"
     ]
    },
    "id": "DTEVDxIkoTq5",
    "outputId": "441413f2-ec24-4bed-9886-4e5420daa929"
   },
   "outputs": [
    {
     "data": {
      "application/vnd.jupyter.widget-view+json": {
       "model_id": "99cac1257d9a4e1cb9aa4a090cbd8c46",
       "version_major": 2,
       "version_minor": 0
      },
      "text/plain": [
       "  0%|          | 0/10000 [00:00<?, ?it/s]"
      ]
     },
     "metadata": {},
     "output_type": "display_data"
    }
   ],
   "source": [
    "n = 10000\n",
    "res = []\n",
    "for _ in tqdm(range(n)):\n",
    "    p1 = np.random.binomial(1,0.20,1100)\n",
    "    p2 = np.random.binomial(1,0.25,1100)\n",
    "    cnts = [p1.sum(),p2.sum()]\n",
    "    nobs = [len(p1),len(p2)]\n",
    "    pval = proportions_ztest(cnts,nobs)[1]\n",
    "    res.append(pval <= 0.05)"
   ]
  },
  {
   "cell_type": "code",
   "execution_count": 6,
   "metadata": {
    "colab": {
     "base_uri": "https://localhost:8080/",
     "height": 34
    },
    "id": "a_qcFHLLpo3P",
    "outputId": "10f00d0f-176a-41ba-f640-268734cdc45a"
   },
   "outputs": [
    {
     "data": {
      "text/plain": [
       "0.8004"
      ]
     },
     "execution_count": 6,
     "metadata": {},
     "output_type": "execute_result"
    }
   ],
   "source": [
    "np.mean(res)"
   ]
  },
  {
   "cell_type": "markdown",
   "metadata": {
    "id": "8RlqDZN_p1sM"
   },
   "source": [
    "Здесь я посчитал % когда наш тест правильно отвергает нулевую гипотезу. Это процент называется мощность, в всех случаях мы искали такие размеры сэмпла при которых будет получена мощность 80%. Кстати, таким методом можно подбирать размеры сэмплов на глазок, если не веришь формулам)."
   ]
  },
  {
   "cell_type": "markdown",
   "metadata": {
    "id": "43_z8x2xqe2I"
   },
   "source": [
    "Размеры выборок не должны быть одинаковыми. Они могут быть какими угодно. Но вот Эван Миллер не умеет считать размеры для таких случаев). Поэтому надо пользоваться чем-то другим, например питон. Сначала глянем мою функцию. Например мы хотим, чтобы второй семпл был больше в два раза, т.е. большая пилотная группа"
   ]
  },
  {
   "cell_type": "code",
   "execution_count": 7,
   "metadata": {
    "colab": {
     "base_uri": "https://localhost:8080/",
     "height": 34
    },
    "id": "jurPHl3eq45N",
    "outputId": "bbf2ad20-30bc-45fb-fafc-0c3e9bd80f96"
   },
   "outputs": [
    {
     "data": {
      "text/plain": [
       "(828.557745393677, 1657.115490787354)"
      ]
     },
     "execution_count": 7,
     "metadata": {},
     "output_type": "execute_result"
    }
   ],
   "source": [
    "get_sample_size(0.20,0.25, r = 2)"
   ]
  },
  {
   "cell_type": "markdown",
   "metadata": {
    "id": "zaOv6EdFrGpi"
   },
   "source": [
    "Сравним с statmodels"
   ]
  },
  {
   "cell_type": "code",
   "execution_count": 8,
   "metadata": {
    "colab": {
     "base_uri": "https://localhost:8080/",
     "height": 34
    },
    "id": "MK5dDRHHrM2q",
    "outputId": "348adc69-476f-4f0e-8516-622cb9e40796"
   },
   "outputs": [
    {
     "data": {
      "text/plain": [
       "818.9221190753085"
      ]
     },
     "execution_count": 8,
     "metadata": {},
     "output_type": "execute_result"
    }
   ],
   "source": [
    "es = sms.proportion_effectsize(0.20, 0.25)\n",
    "sms.NormalIndPower().solve_power(es, power=0.80, alpha=0.05, ratio=2)"
   ]
  },
  {
   "cell_type": "markdown",
   "metadata": {
    "id": "1zrrfxJHrRT-"
   },
   "source": [
    "Он возвращает только размер первой группы, вторую нужно считать самим). Почти сходится, но верим конечно же больше станмоделсам. И в любом случае лучше округлить до 900. Проверим бутсрепом."
   ]
  },
  {
   "cell_type": "code",
   "execution_count": 9,
   "metadata": {
    "colab": {
     "base_uri": "https://localhost:8080/",
     "height": 66,
     "referenced_widgets": [
      "9342bb5ac6864743b7faa549699ed0b1",
      "60b94d3b524a4e0d8de8914ad2032259",
      "61f3c31d9b80405da76490a8cc715dca",
      "444849dcf6b94a74987d823ee2a8b358",
      "4779449711bc4bba9e572b595ad7def9",
      "a5da7aaa4bdb426ca14196cc7f90ea06",
      "084f3ecb692b44bcae57c8f3f17a577b",
      "eaa2c1f9cb584a04a0d90692e64de172"
     ]
    },
    "id": "ud3X-yqerQLf",
    "outputId": "9d63a8cb-650b-4669-fdc6-6321b2d60d62"
   },
   "outputs": [
    {
     "data": {
      "application/vnd.jupyter.widget-view+json": {
       "model_id": "199115e6ecfe46a4946b52b5cddfd283",
       "version_major": 2,
       "version_minor": 0
      },
      "text/plain": [
       "  0%|          | 0/10000 [00:00<?, ?it/s]"
      ]
     },
     "metadata": {},
     "output_type": "display_data"
    }
   ],
   "source": [
    "n = 10000\n",
    "res = []\n",
    "for _ in tqdm(range(n)):\n",
    "\n",
    "    p1 = np.random.binomial(1, 0.2, 900)\n",
    "    p2 = np.random.binomial(1, 0.25, 900*2)\n",
    "\n",
    "    cnts = [p1.sum(),p2.sum()]\n",
    "    nobs = [len(p1),len(p2)]\n",
    "    pval = proportions_ztest(cnts,nobs)[1]\n",
    "    res.append(pval <= 0.05)"
   ]
  },
  {
   "cell_type": "code",
   "execution_count": 10,
   "metadata": {
    "colab": {
     "base_uri": "https://localhost:8080/",
     "height": 34
    },
    "id": "iPo9H0TLrnBg",
    "outputId": "0e136522-ec7a-4c15-edeb-7df393cabffc"
   },
   "outputs": [
    {
     "data": {
      "text/plain": [
       "0.8353"
      ]
     },
     "execution_count": 10,
     "metadata": {},
     "output_type": "execute_result"
    }
   ],
   "source": [
    "np.mean(res)"
   ]
  },
  {
   "cell_type": "markdown",
   "metadata": {
    "id": "WV7QL5Y6rpDa"
   },
   "source": [
    "Ну тут мы лихо округлили, поэтому и перевалило за 80%."
   ]
  }
 ],
 "metadata": {
  "colab": {
   "provenance": []
  },
  "kernelspec": {
   "display_name": "Python 3 (ipykernel)",
   "language": "python",
   "name": "python3"
  },
  "language_info": {
   "codemirror_mode": {
    "name": "ipython",
    "version": 3
   },
   "file_extension": ".py",
   "mimetype": "text/x-python",
   "name": "python",
   "nbconvert_exporter": "python",
   "pygments_lexer": "ipython3",
   "version": "3.10.11"
  },
  "widgets": {
   "application/vnd.jupyter.widget-state+json": {
    "084f3ecb692b44bcae57c8f3f17a577b": {
     "model_module": "@jupyter-widgets/controls",
     "model_module_version": "1.5.0",
     "model_name": "DescriptionStyleModel",
     "state": {
      "_model_module": "@jupyter-widgets/controls",
      "_model_module_version": "1.5.0",
      "_model_name": "DescriptionStyleModel",
      "_view_count": null,
      "_view_module": "@jupyter-widgets/base",
      "_view_module_version": "1.2.0",
      "_view_name": "StyleView",
      "description_width": ""
     }
    },
    "16cdb2582de1446fa72db1d9e202adb3": {
     "model_module": "@jupyter-widgets/controls",
     "model_module_version": "1.5.0",
     "model_name": "FloatProgressModel",
     "state": {
      "_dom_classes": [],
      "_model_module": "@jupyter-widgets/controls",
      "_model_module_version": "1.5.0",
      "_model_name": "FloatProgressModel",
      "_view_count": null,
      "_view_module": "@jupyter-widgets/controls",
      "_view_module_version": "1.5.0",
      "_view_name": "ProgressView",
      "bar_style": "success",
      "description": "100%",
      "description_tooltip": null,
      "layout": "IPY_MODEL_244e5bf8763d4c35a217fff9caaf9bb8",
      "max": 10000,
      "min": 0,
      "orientation": "horizontal",
      "style": "IPY_MODEL_48a911a4cd17407b9da770e3d298926f",
      "value": 10000
     }
    },
    "244e5bf8763d4c35a217fff9caaf9bb8": {
     "model_module": "@jupyter-widgets/base",
     "model_module_version": "1.2.0",
     "model_name": "LayoutModel",
     "state": {
      "_model_module": "@jupyter-widgets/base",
      "_model_module_version": "1.2.0",
      "_model_name": "LayoutModel",
      "_view_count": null,
      "_view_module": "@jupyter-widgets/base",
      "_view_module_version": "1.2.0",
      "_view_name": "LayoutView",
      "align_content": null,
      "align_items": null,
      "align_self": null,
      "border": null,
      "bottom": null,
      "display": null,
      "flex": null,
      "flex_flow": null,
      "grid_area": null,
      "grid_auto_columns": null,
      "grid_auto_flow": null,
      "grid_auto_rows": null,
      "grid_column": null,
      "grid_gap": null,
      "grid_row": null,
      "grid_template_areas": null,
      "grid_template_columns": null,
      "grid_template_rows": null,
      "height": null,
      "justify_content": null,
      "justify_items": null,
      "left": null,
      "margin": null,
      "max_height": null,
      "max_width": null,
      "min_height": null,
      "min_width": null,
      "object_fit": null,
      "object_position": null,
      "order": null,
      "overflow": null,
      "overflow_x": null,
      "overflow_y": null,
      "padding": null,
      "right": null,
      "top": null,
      "visibility": null,
      "width": null
     }
    },
    "37b68837f3db43e8ab7f782590bccb9f": {
     "model_module": "@jupyter-widgets/controls",
     "model_module_version": "1.5.0",
     "model_name": "HTMLModel",
     "state": {
      "_dom_classes": [],
      "_model_module": "@jupyter-widgets/controls",
      "_model_module_version": "1.5.0",
      "_model_name": "HTMLModel",
      "_view_count": null,
      "_view_module": "@jupyter-widgets/controls",
      "_view_module_version": "1.5.0",
      "_view_name": "HTMLView",
      "description": "",
      "description_tooltip": null,
      "layout": "IPY_MODEL_9215bf223c1f41da80a9556537957244",
      "placeholder": "​",
      "style": "IPY_MODEL_70c78f0fea184573896eea1b15a9d7c2",
      "value": " 10000/10000 [00:02&lt;00:00, 3615.05it/s]"
     }
    },
    "444849dcf6b94a74987d823ee2a8b358": {
     "model_module": "@jupyter-widgets/controls",
     "model_module_version": "1.5.0",
     "model_name": "HTMLModel",
     "state": {
      "_dom_classes": [],
      "_model_module": "@jupyter-widgets/controls",
      "_model_module_version": "1.5.0",
      "_model_name": "HTMLModel",
      "_view_count": null,
      "_view_module": "@jupyter-widgets/controls",
      "_view_module_version": "1.5.0",
      "_view_name": "HTMLView",
      "description": "",
      "description_tooltip": null,
      "layout": "IPY_MODEL_eaa2c1f9cb584a04a0d90692e64de172",
      "placeholder": "​",
      "style": "IPY_MODEL_084f3ecb692b44bcae57c8f3f17a577b",
      "value": " 10000/10000 [38:42&lt;00:00,  4.30it/s]"
     }
    },
    "4779449711bc4bba9e572b595ad7def9": {
     "model_module": "@jupyter-widgets/controls",
     "model_module_version": "1.5.0",
     "model_name": "ProgressStyleModel",
     "state": {
      "_model_module": "@jupyter-widgets/controls",
      "_model_module_version": "1.5.0",
      "_model_name": "ProgressStyleModel",
      "_view_count": null,
      "_view_module": "@jupyter-widgets/base",
      "_view_module_version": "1.2.0",
      "_view_name": "StyleView",
      "bar_color": null,
      "description_width": "initial"
     }
    },
    "48a911a4cd17407b9da770e3d298926f": {
     "model_module": "@jupyter-widgets/controls",
     "model_module_version": "1.5.0",
     "model_name": "ProgressStyleModel",
     "state": {
      "_model_module": "@jupyter-widgets/controls",
      "_model_module_version": "1.5.0",
      "_model_name": "ProgressStyleModel",
      "_view_count": null,
      "_view_module": "@jupyter-widgets/base",
      "_view_module_version": "1.2.0",
      "_view_name": "StyleView",
      "bar_color": null,
      "description_width": "initial"
     }
    },
    "60b94d3b524a4e0d8de8914ad2032259": {
     "model_module": "@jupyter-widgets/base",
     "model_module_version": "1.2.0",
     "model_name": "LayoutModel",
     "state": {
      "_model_module": "@jupyter-widgets/base",
      "_model_module_version": "1.2.0",
      "_model_name": "LayoutModel",
      "_view_count": null,
      "_view_module": "@jupyter-widgets/base",
      "_view_module_version": "1.2.0",
      "_view_name": "LayoutView",
      "align_content": null,
      "align_items": null,
      "align_self": null,
      "border": null,
      "bottom": null,
      "display": null,
      "flex": null,
      "flex_flow": null,
      "grid_area": null,
      "grid_auto_columns": null,
      "grid_auto_flow": null,
      "grid_auto_rows": null,
      "grid_column": null,
      "grid_gap": null,
      "grid_row": null,
      "grid_template_areas": null,
      "grid_template_columns": null,
      "grid_template_rows": null,
      "height": null,
      "justify_content": null,
      "justify_items": null,
      "left": null,
      "margin": null,
      "max_height": null,
      "max_width": null,
      "min_height": null,
      "min_width": null,
      "object_fit": null,
      "object_position": null,
      "order": null,
      "overflow": null,
      "overflow_x": null,
      "overflow_y": null,
      "padding": null,
      "right": null,
      "top": null,
      "visibility": null,
      "width": null
     }
    },
    "61f3c31d9b80405da76490a8cc715dca": {
     "model_module": "@jupyter-widgets/controls",
     "model_module_version": "1.5.0",
     "model_name": "FloatProgressModel",
     "state": {
      "_dom_classes": [],
      "_model_module": "@jupyter-widgets/controls",
      "_model_module_version": "1.5.0",
      "_model_name": "FloatProgressModel",
      "_view_count": null,
      "_view_module": "@jupyter-widgets/controls",
      "_view_module_version": "1.5.0",
      "_view_name": "ProgressView",
      "bar_style": "success",
      "description": "100%",
      "description_tooltip": null,
      "layout": "IPY_MODEL_a5da7aaa4bdb426ca14196cc7f90ea06",
      "max": 10000,
      "min": 0,
      "orientation": "horizontal",
      "style": "IPY_MODEL_4779449711bc4bba9e572b595ad7def9",
      "value": 10000
     }
    },
    "6bc9f48e81714468a448814846be4105": {
     "model_module": "@jupyter-widgets/base",
     "model_module_version": "1.2.0",
     "model_name": "LayoutModel",
     "state": {
      "_model_module": "@jupyter-widgets/base",
      "_model_module_version": "1.2.0",
      "_model_name": "LayoutModel",
      "_view_count": null,
      "_view_module": "@jupyter-widgets/base",
      "_view_module_version": "1.2.0",
      "_view_name": "LayoutView",
      "align_content": null,
      "align_items": null,
      "align_self": null,
      "border": null,
      "bottom": null,
      "display": null,
      "flex": null,
      "flex_flow": null,
      "grid_area": null,
      "grid_auto_columns": null,
      "grid_auto_flow": null,
      "grid_auto_rows": null,
      "grid_column": null,
      "grid_gap": null,
      "grid_row": null,
      "grid_template_areas": null,
      "grid_template_columns": null,
      "grid_template_rows": null,
      "height": null,
      "justify_content": null,
      "justify_items": null,
      "left": null,
      "margin": null,
      "max_height": null,
      "max_width": null,
      "min_height": null,
      "min_width": null,
      "object_fit": null,
      "object_position": null,
      "order": null,
      "overflow": null,
      "overflow_x": null,
      "overflow_y": null,
      "padding": null,
      "right": null,
      "top": null,
      "visibility": null,
      "width": null
     }
    },
    "70c78f0fea184573896eea1b15a9d7c2": {
     "model_module": "@jupyter-widgets/controls",
     "model_module_version": "1.5.0",
     "model_name": "DescriptionStyleModel",
     "state": {
      "_model_module": "@jupyter-widgets/controls",
      "_model_module_version": "1.5.0",
      "_model_name": "DescriptionStyleModel",
      "_view_count": null,
      "_view_module": "@jupyter-widgets/base",
      "_view_module_version": "1.2.0",
      "_view_name": "StyleView",
      "description_width": ""
     }
    },
    "9215bf223c1f41da80a9556537957244": {
     "model_module": "@jupyter-widgets/base",
     "model_module_version": "1.2.0",
     "model_name": "LayoutModel",
     "state": {
      "_model_module": "@jupyter-widgets/base",
      "_model_module_version": "1.2.0",
      "_model_name": "LayoutModel",
      "_view_count": null,
      "_view_module": "@jupyter-widgets/base",
      "_view_module_version": "1.2.0",
      "_view_name": "LayoutView",
      "align_content": null,
      "align_items": null,
      "align_self": null,
      "border": null,
      "bottom": null,
      "display": null,
      "flex": null,
      "flex_flow": null,
      "grid_area": null,
      "grid_auto_columns": null,
      "grid_auto_flow": null,
      "grid_auto_rows": null,
      "grid_column": null,
      "grid_gap": null,
      "grid_row": null,
      "grid_template_areas": null,
      "grid_template_columns": null,
      "grid_template_rows": null,
      "height": null,
      "justify_content": null,
      "justify_items": null,
      "left": null,
      "margin": null,
      "max_height": null,
      "max_width": null,
      "min_height": null,
      "min_width": null,
      "object_fit": null,
      "object_position": null,
      "order": null,
      "overflow": null,
      "overflow_x": null,
      "overflow_y": null,
      "padding": null,
      "right": null,
      "top": null,
      "visibility": null,
      "width": null
     }
    },
    "9342bb5ac6864743b7faa549699ed0b1": {
     "model_module": "@jupyter-widgets/controls",
     "model_module_version": "1.5.0",
     "model_name": "HBoxModel",
     "state": {
      "_dom_classes": [],
      "_model_module": "@jupyter-widgets/controls",
      "_model_module_version": "1.5.0",
      "_model_name": "HBoxModel",
      "_view_count": null,
      "_view_module": "@jupyter-widgets/controls",
      "_view_module_version": "1.5.0",
      "_view_name": "HBoxView",
      "box_style": "",
      "children": [
       "IPY_MODEL_61f3c31d9b80405da76490a8cc715dca",
       "IPY_MODEL_444849dcf6b94a74987d823ee2a8b358"
      ],
      "layout": "IPY_MODEL_60b94d3b524a4e0d8de8914ad2032259"
     }
    },
    "a5da7aaa4bdb426ca14196cc7f90ea06": {
     "model_module": "@jupyter-widgets/base",
     "model_module_version": "1.2.0",
     "model_name": "LayoutModel",
     "state": {
      "_model_module": "@jupyter-widgets/base",
      "_model_module_version": "1.2.0",
      "_model_name": "LayoutModel",
      "_view_count": null,
      "_view_module": "@jupyter-widgets/base",
      "_view_module_version": "1.2.0",
      "_view_name": "LayoutView",
      "align_content": null,
      "align_items": null,
      "align_self": null,
      "border": null,
      "bottom": null,
      "display": null,
      "flex": null,
      "flex_flow": null,
      "grid_area": null,
      "grid_auto_columns": null,
      "grid_auto_flow": null,
      "grid_auto_rows": null,
      "grid_column": null,
      "grid_gap": null,
      "grid_row": null,
      "grid_template_areas": null,
      "grid_template_columns": null,
      "grid_template_rows": null,
      "height": null,
      "justify_content": null,
      "justify_items": null,
      "left": null,
      "margin": null,
      "max_height": null,
      "max_width": null,
      "min_height": null,
      "min_width": null,
      "object_fit": null,
      "object_position": null,
      "order": null,
      "overflow": null,
      "overflow_x": null,
      "overflow_y": null,
      "padding": null,
      "right": null,
      "top": null,
      "visibility": null,
      "width": null
     }
    },
    "cb159ea341314f6594a48506d49e224e": {
     "model_module": "@jupyter-widgets/controls",
     "model_module_version": "1.5.0",
     "model_name": "HBoxModel",
     "state": {
      "_dom_classes": [],
      "_model_module": "@jupyter-widgets/controls",
      "_model_module_version": "1.5.0",
      "_model_name": "HBoxModel",
      "_view_count": null,
      "_view_module": "@jupyter-widgets/controls",
      "_view_module_version": "1.5.0",
      "_view_name": "HBoxView",
      "box_style": "",
      "children": [
       "IPY_MODEL_16cdb2582de1446fa72db1d9e202adb3",
       "IPY_MODEL_37b68837f3db43e8ab7f782590bccb9f"
      ],
      "layout": "IPY_MODEL_6bc9f48e81714468a448814846be4105"
     }
    },
    "eaa2c1f9cb584a04a0d90692e64de172": {
     "model_module": "@jupyter-widgets/base",
     "model_module_version": "1.2.0",
     "model_name": "LayoutModel",
     "state": {
      "_model_module": "@jupyter-widgets/base",
      "_model_module_version": "1.2.0",
      "_model_name": "LayoutModel",
      "_view_count": null,
      "_view_module": "@jupyter-widgets/base",
      "_view_module_version": "1.2.0",
      "_view_name": "LayoutView",
      "align_content": null,
      "align_items": null,
      "align_self": null,
      "border": null,
      "bottom": null,
      "display": null,
      "flex": null,
      "flex_flow": null,
      "grid_area": null,
      "grid_auto_columns": null,
      "grid_auto_flow": null,
      "grid_auto_rows": null,
      "grid_column": null,
      "grid_gap": null,
      "grid_row": null,
      "grid_template_areas": null,
      "grid_template_columns": null,
      "grid_template_rows": null,
      "height": null,
      "justify_content": null,
      "justify_items": null,
      "left": null,
      "margin": null,
      "max_height": null,
      "max_width": null,
      "min_height": null,
      "min_width": null,
      "object_fit": null,
      "object_position": null,
      "order": null,
      "overflow": null,
      "overflow_x": null,
      "overflow_y": null,
      "padding": null,
      "right": null,
      "top": null,
      "visibility": null,
      "width": null
     }
    }
   }
  }
 },
 "nbformat": 4,
 "nbformat_minor": 1
}

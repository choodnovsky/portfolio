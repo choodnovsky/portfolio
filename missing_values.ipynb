{
 "cells": [
  {
   "cell_type": "markdown",
   "metadata": {
    "id": "7bO-vHZKhjAr"
   },
   "source": [
    "#### Обработка нулевых значений  \n",
    "\n",
    "a. Заменить на среднее значение, медиану, моду  \n",
    "b. __Indicator Method__ - замена пропущенных значений нулями и создание новой переменной индикатора (где она принимает значение 1 при наличие пропуска и 0 в остальных случаях).  \n",
    "c. Повторить результат последнего наблюдения (среднее между соседними).  \n",
    "d. Восстановление пропусков на основе моделей.  \n",
    "\n",
    "\n",
    "<img align=center src=\"https://miro.medium.com/max/2400/1*_RA3mCS30Pr0vUxbp25Yxw.png\"  width=800></p>"
   ]
  },
  {
   "cell_type": "code",
   "execution_count": 1,
   "metadata": {
    "id": "VOKQuuNRhjAn"
   },
   "outputs": [],
   "source": [
    "import numpy as np\n",
    "import seaborn as sns\n",
    "import pandas as pd # Для работы с данными\n",
    "import matplotlib.pyplot as plt  # Библиотека для визуализации результатов\n",
    "import warnings\n",
    "warnings.filterwarnings(\"ignore\")\n",
    "%matplotlib inline"
   ]
  },
  {
   "cell_type": "code",
   "execution_count": 2,
   "metadata": {
    "id": "vyodmCVvhjAu"
   },
   "outputs": [],
   "source": [
    "from sklearn.linear_model import LinearRegression\n",
    "from sklearn.model_selection import train_test_split"
   ]
  },
  {
   "cell_type": "markdown",
   "metadata": {
    "id": "wcyEMBPVhjAu"
   },
   "source": [
    "### Первичный анализ\n",
    "Имеем 11330 объектов и 18 признаков. Для начала посмотрим какие признаки у нас есть. Это \"адресс\", \"кол-во ванных комнат\",\"кол-во спален\", \"влощадь в кв. фут\", \"последняя цена продажи\", и т.д.\n"
   ]
  },
  {
   "cell_type": "code",
   "execution_count": 3,
   "metadata": {
    "colab": {
     "base_uri": "https://localhost:8080/",
     "height": 433
    },
    "id": "O3CiTIbdhjAv",
    "outputId": "0d46e749-ae4e-4588-fc2d-72ed65e33aa0"
   },
   "outputs": [
    {
     "name": "stdout",
     "output_type": "stream",
     "text": [
      "(11330, 18)\n"
     ]
    },
    {
     "data": {
      "text/html": [
       "<div>\n",
       "<style scoped>\n",
       "    .dataframe tbody tr th:only-of-type {\n",
       "        vertical-align: middle;\n",
       "    }\n",
       "\n",
       "    .dataframe tbody tr th {\n",
       "        vertical-align: top;\n",
       "    }\n",
       "\n",
       "    .dataframe thead th {\n",
       "        text-align: right;\n",
       "    }\n",
       "</style>\n",
       "<table border=\"1\" class=\"dataframe\">\n",
       "  <thead>\n",
       "    <tr style=\"text-align: right;\">\n",
       "      <th></th>\n",
       "      <th>Unnamed: 0</th>\n",
       "      <th>address</th>\n",
       "      <th>z_address</th>\n",
       "      <th>bathrooms</th>\n",
       "      <th>bedrooms</th>\n",
       "      <th>finishedsqft</th>\n",
       "      <th>lastsolddate</th>\n",
       "      <th>lastsoldprice</th>\n",
       "      <th>latitude</th>\n",
       "      <th>longitude</th>\n",
       "      <th>neighborhood</th>\n",
       "      <th>totalrooms</th>\n",
       "      <th>usecode</th>\n",
       "      <th>yearbuilt</th>\n",
       "      <th>zestimate</th>\n",
       "      <th>zindexvalue</th>\n",
       "      <th>zipcode</th>\n",
       "      <th>zpid</th>\n",
       "    </tr>\n",
       "  </thead>\n",
       "  <tbody>\n",
       "    <tr>\n",
       "      <th>0</th>\n",
       "      <td>2</td>\n",
       "      <td>Address: 1160 Mission Street #2007</td>\n",
       "      <td>1160 Mission St UNIT 2007</td>\n",
       "      <td>2.0</td>\n",
       "      <td>2.0</td>\n",
       "      <td>1043.0</td>\n",
       "      <td>02/17/2016</td>\n",
       "      <td>1300000.0</td>\n",
       "      <td>37.778705</td>\n",
       "      <td>-122.412635</td>\n",
       "      <td>South of Market</td>\n",
       "      <td>4.0</td>\n",
       "      <td>Condominium</td>\n",
       "      <td>2007.0</td>\n",
       "      <td>1167508.0</td>\n",
       "      <td>975,700</td>\n",
       "      <td>94103.0</td>\n",
       "      <td>83152781.0</td>\n",
       "    </tr>\n",
       "    <tr>\n",
       "      <th>1</th>\n",
       "      <td>5</td>\n",
       "      <td>Address: 260 King Street #475</td>\n",
       "      <td>260 King St UNIT 475</td>\n",
       "      <td>1.0</td>\n",
       "      <td>1.0</td>\n",
       "      <td>903.0</td>\n",
       "      <td>02/17/2016</td>\n",
       "      <td>750000.0</td>\n",
       "      <td>37.777641</td>\n",
       "      <td>-122.393417</td>\n",
       "      <td>South of Market</td>\n",
       "      <td>3.0</td>\n",
       "      <td>Condominium</td>\n",
       "      <td>2004.0</td>\n",
       "      <td>823719.0</td>\n",
       "      <td>975,700</td>\n",
       "      <td>94107.0</td>\n",
       "      <td>69819817.0</td>\n",
       "    </tr>\n",
       "    <tr>\n",
       "      <th>2</th>\n",
       "      <td>7</td>\n",
       "      <td>Address: 560 Missouri Street #B</td>\n",
       "      <td>560 Missouri St # B</td>\n",
       "      <td>4.0</td>\n",
       "      <td>3.0</td>\n",
       "      <td>1425.0</td>\n",
       "      <td>02/17/2016</td>\n",
       "      <td>1495000.0</td>\n",
       "      <td>37.759198</td>\n",
       "      <td>-122.396516</td>\n",
       "      <td>Potrero Hill</td>\n",
       "      <td>6.0</td>\n",
       "      <td>Condominium</td>\n",
       "      <td>2003.0</td>\n",
       "      <td>1708594.0</td>\n",
       "      <td>1,277,600</td>\n",
       "      <td>94107.0</td>\n",
       "      <td>64972847.0</td>\n",
       "    </tr>\n",
       "  </tbody>\n",
       "</table>\n",
       "</div>"
      ],
      "text/plain": [
       "   Unnamed: 0                             address                  z_address  \\\n",
       "0           2  Address: 1160 Mission Street #2007  1160 Mission St UNIT 2007   \n",
       "1           5       Address: 260 King Street #475       260 King St UNIT 475   \n",
       "2           7     Address: 560 Missouri Street #B        560 Missouri St # B   \n",
       "\n",
       "   bathrooms  bedrooms  finishedsqft lastsolddate  lastsoldprice   latitude  \\\n",
       "0        2.0       2.0        1043.0   02/17/2016      1300000.0  37.778705   \n",
       "1        1.0       1.0         903.0   02/17/2016       750000.0  37.777641   \n",
       "2        4.0       3.0        1425.0   02/17/2016      1495000.0  37.759198   \n",
       "\n",
       "    longitude     neighborhood  totalrooms      usecode  yearbuilt  zestimate  \\\n",
       "0 -122.412635  South of Market         4.0  Condominium     2007.0  1167508.0   \n",
       "1 -122.393417  South of Market         3.0  Condominium     2004.0   823719.0   \n",
       "2 -122.396516     Potrero Hill         6.0  Condominium     2003.0  1708594.0   \n",
       "\n",
       "  zindexvalue  zipcode        zpid  \n",
       "0     975,700  94103.0  83152781.0  \n",
       "1     975,700  94107.0  69819817.0  \n",
       "2   1,277,600  94107.0  64972847.0  "
      ]
     },
     "execution_count": 3,
     "metadata": {},
     "output_type": "execute_result"
    }
   ],
   "source": [
    "data = pd.read_csv('https://raw.githubusercontent.com/flaymax/tmp/master/final_data.csv', delimiter=';')\n",
    "print(data.shape)\n",
    "data.head(3)"
   ]
  },
  {
   "cell_type": "markdown",
   "metadata": {
    "id": "BZ-xpvH5hjAw"
   },
   "source": [
    "Будем использовать линейную регрессию для тестирования качества данных. Сразу напишем функцию получения скор (параметр от 0 до 1, который показывает насколько точна наша модель по отношению к таргетной переменной), для удобства."
   ]
  },
  {
   "cell_type": "code",
   "execution_count": 4,
   "metadata": {
    "id": "hvV39B36hjAx"
   },
   "outputs": [],
   "source": [
    "def get_score(X, y, random_seed=42, model=None):\n",
    "    if model is None:\n",
    "        model = LinearRegression()\n",
    "        \n",
    "    X_train, X_test, y_train, y_test = train_test_split(X, y, test_size=0.3, random_state=random_seed)  \n",
    "    model.fit(X_train, y_train)\n",
    "    return model.score(X_test, y_test)"
   ]
  },
  {
   "cell_type": "markdown",
   "metadata": {
    "id": "60zscuGdhjAx"
   },
   "source": [
    "Для поиска выбросов будем использовать boxplot, для выявления корреляций между переменными - pairplot."
   ]
  },
  {
   "cell_type": "code",
   "execution_count": 5,
   "metadata": {
    "id": "Ztxuf4wJhjAx"
   },
   "outputs": [],
   "source": [
    "def get_boxplot(X, columns=[]):\n",
    "    for i in columns:\n",
    "        sns.boxplot(x=X[i])\n",
    "    pass  \n",
    "\n",
    "def get_pairplot(X, columns=None):\n",
    "    if columns is None:\n",
    "        columns = list(X.columns)\n",
    "    sns.pairplot(X[columns])\n",
    "    pass    "
   ]
  },
  {
   "cell_type": "markdown",
   "metadata": {
    "id": "Dk8WYznRhjAy"
   },
   "source": [
    "Т.к. нам предстоит работать с пропусками, то для их заполнения будем использовать стандартные способы и напишем специальную функцию для этого.\n",
    "- заполнение значением\n",
    "- mode\n",
    "- median\n",
    "- mean\n",
    "- метод индикатора\n",
    "- линейная регрессия"
   ]
  },
  {
   "cell_type": "code",
   "execution_count": 6,
   "metadata": {
    "id": "nKVfHqqGhjAy"
   },
   "outputs": [],
   "source": [
    "def get_value(X, column, mode='mean', value=0, columns_for_reg=None): \n",
    "    if mode == 'value':\n",
    "        X.loc[X[X[column].isna()].index ,column] = value # заполнение значением\n",
    "\n",
    "    elif mode == 'median':\n",
    "        X.loc[X[X[column].isna()].index ,column] = X[column].median()    # заполнение медианой\n",
    "    \n",
    "    elif mode == 'mode':\n",
    "        X.loc[X[X[column].isna()].index, column] = X[column].mode()   # заполнение модой\n",
    "    \n",
    "    elif mode == 'indicator': # метод индикатора (принимает значение 1 при наличие пропуска и 0 в остальных случаях)\n",
    "        X['ind_'+str(column)] = 0\n",
    "        X.loc[X[X[column].isna()].index, 'ind_'+str(column)] = 1\n",
    "        X.loc[X[X[column].isna()].index, column] = 0     \n",
    "    \n",
    "    elif mode == 'linreg':   # линейная регрессия\n",
    "        if columns_for_reg is None:\n",
    "            cols = list(X.select_dtypes([np.number]).columns) \n",
    "            cols.remove(column)\n",
    "        else:\n",
    "            cols = columns_for_reg\n",
    "        X_tmp = X.dropna()  \n",
    "        m = LinearRegression().fit(X_tmp[cols], X_tmp[column])\n",
    "        X.loc[X[X[column].isna()].index, column] = m.predict(X[X[column].isna()][cols])\n",
    "    \n",
    "    else:\n",
    "        X.loc[X[X[column].isna()].index, column] = X[column].mean()  # по умолчанию среднее значение\n",
    "    \n",
    "    return X.head()"
   ]
  },
  {
   "cell_type": "markdown",
   "metadata": {
    "id": "FVr7ayAQhjAz"
   },
   "source": [
    "Первое, что можно сделать при встрече с новыми данными это запустить функцию .info(), которая соберет информацию о датасете (названия признаков, тип данных, кол-во ненулевых значений)."
   ]
  },
  {
   "cell_type": "code",
   "execution_count": 7,
   "metadata": {
    "colab": {
     "base_uri": "https://localhost:8080/"
    },
    "id": "TdGr7BeqhjAz",
    "outputId": "e2c262db-4ad4-47fb-9d0a-bdd3df5870e5"
   },
   "outputs": [
    {
     "name": "stdout",
     "output_type": "stream",
     "text": [
      "<class 'pandas.core.frame.DataFrame'>\n",
      "RangeIndex: 11330 entries, 0 to 11329\n",
      "Data columns (total 18 columns):\n",
      " #   Column         Non-Null Count  Dtype  \n",
      "---  ------         --------------  -----  \n",
      " 0   Unnamed: 0     11330 non-null  int64  \n",
      " 1   address        11330 non-null  object \n",
      " 2   z_address      11330 non-null  object \n",
      " 3   bathrooms      11330 non-null  float64\n",
      " 4   bedrooms       11330 non-null  float64\n",
      " 5   finishedsqft   11211 non-null  float64\n",
      " 6   lastsolddate   11330 non-null  object \n",
      " 7   lastsoldprice  11330 non-null  float64\n",
      " 8   latitude       11315 non-null  float64\n",
      " 9   longitude      11315 non-null  float64\n",
      " 10  neighborhood   11330 non-null  object \n",
      " 11  totalrooms     11281 non-null  float64\n",
      " 12  usecode        11290 non-null  object \n",
      " 13  yearbuilt      11330 non-null  float64\n",
      " 14  zestimate      11330 non-null  float64\n",
      " 15  zindexvalue    11330 non-null  object \n",
      " 16  zipcode        11330 non-null  float64\n",
      " 17  zpid           11330 non-null  float64\n",
      "dtypes: float64(11), int64(1), object(6)\n",
      "memory usage: 1.6+ MB\n"
     ]
    }
   ],
   "source": [
    "data.info()"
   ]
  },
  {
   "cell_type": "code",
   "execution_count": 8,
   "metadata": {
    "colab": {
     "base_uri": "https://localhost:8080/"
    },
    "id": "muMmUjZ8ZNlX",
    "outputId": "6494b250-fb7f-478e-aaa5-6592a4e9f1b4"
   },
   "outputs": [
    {
     "data": {
      "text/plain": [
       "Unnamed: 0         0\n",
       "address            0\n",
       "z_address          0\n",
       "bathrooms          0\n",
       "bedrooms           0\n",
       "finishedsqft     119\n",
       "lastsolddate       0\n",
       "lastsoldprice      0\n",
       "latitude          15\n",
       "longitude         15\n",
       "neighborhood       0\n",
       "totalrooms        49\n",
       "usecode           40\n",
       "yearbuilt          0\n",
       "zestimate          0\n",
       "zindexvalue        0\n",
       "zipcode            0\n",
       "zpid               0\n",
       "dtype: int64"
      ]
     },
     "execution_count": 8,
     "metadata": {},
     "output_type": "execute_result"
    }
   ],
   "source": [
    "data.isna().sum()"
   ]
  },
  {
   "cell_type": "markdown",
   "metadata": {
    "id": "5k6V8sI6hjAz"
   },
   "source": [
    "Также можно вызвать функцию .describe(), которая подсчитает статистики по всем количественными переменным (кол-во, среднее, дисперсию, квартили и т.д.)"
   ]
  },
  {
   "cell_type": "code",
   "execution_count": 9,
   "metadata": {
    "colab": {
     "base_uri": "https://localhost:8080/",
     "height": 364
    },
    "id": "jPwWqAX4hjAz",
    "outputId": "6586a757-f518-494b-f613-5bf3259944d5"
   },
   "outputs": [
    {
     "data": {
      "text/html": [
       "<div>\n",
       "<style scoped>\n",
       "    .dataframe tbody tr th:only-of-type {\n",
       "        vertical-align: middle;\n",
       "    }\n",
       "\n",
       "    .dataframe tbody tr th {\n",
       "        vertical-align: top;\n",
       "    }\n",
       "\n",
       "    .dataframe thead th {\n",
       "        text-align: right;\n",
       "    }\n",
       "</style>\n",
       "<table border=\"1\" class=\"dataframe\">\n",
       "  <thead>\n",
       "    <tr style=\"text-align: right;\">\n",
       "      <th></th>\n",
       "      <th>Unnamed: 0</th>\n",
       "      <th>bathrooms</th>\n",
       "      <th>bedrooms</th>\n",
       "      <th>finishedsqft</th>\n",
       "      <th>lastsoldprice</th>\n",
       "      <th>latitude</th>\n",
       "      <th>longitude</th>\n",
       "      <th>totalrooms</th>\n",
       "      <th>yearbuilt</th>\n",
       "      <th>zestimate</th>\n",
       "      <th>zipcode</th>\n",
       "      <th>zpid</th>\n",
       "    </tr>\n",
       "  </thead>\n",
       "  <tbody>\n",
       "    <tr>\n",
       "      <th>count</th>\n",
       "      <td>11330.000000</td>\n",
       "      <td>11330.000000</td>\n",
       "      <td>11330.000000</td>\n",
       "      <td>11211.000000</td>\n",
       "      <td>1.133000e+04</td>\n",
       "      <td>11315.000000</td>\n",
       "      <td>11315.000000</td>\n",
       "      <td>11281.000000</td>\n",
       "      <td>11330.000000</td>\n",
       "      <td>1.133000e+04</td>\n",
       "      <td>11330.000000</td>\n",
       "      <td>1.133000e+04</td>\n",
       "    </tr>\n",
       "    <tr>\n",
       "      <th>mean</th>\n",
       "      <td>9171.729214</td>\n",
       "      <td>1.980229</td>\n",
       "      <td>2.614475</td>\n",
       "      <td>1586.081349</td>\n",
       "      <td>1.263928e+06</td>\n",
       "      <td>37.759715</td>\n",
       "      <td>-122.436508</td>\n",
       "      <td>6.113997</td>\n",
       "      <td>1948.498147</td>\n",
       "      <td>1.565695e+06</td>\n",
       "      <td>94116.912004</td>\n",
       "      <td>3.689973e+07</td>\n",
       "    </tr>\n",
       "    <tr>\n",
       "      <th>std</th>\n",
       "      <td>4921.941074</td>\n",
       "      <td>1.047358</td>\n",
       "      <td>1.299457</td>\n",
       "      <td>922.815803</td>\n",
       "      <td>1.042079e+06</td>\n",
       "      <td>0.025583</td>\n",
       "      <td>0.030742</td>\n",
       "      <td>12.151195</td>\n",
       "      <td>37.911196</td>\n",
       "      <td>1.229417e+06</td>\n",
       "      <td>9.400877</td>\n",
       "      <td>7.800741e+07</td>\n",
       "    </tr>\n",
       "    <tr>\n",
       "      <th>min</th>\n",
       "      <td>2.000000</td>\n",
       "      <td>0.500000</td>\n",
       "      <td>0.000000</td>\n",
       "      <td>1.000000</td>\n",
       "      <td>5.350000e+02</td>\n",
       "      <td>37.708170</td>\n",
       "      <td>-122.510726</td>\n",
       "      <td>1.000000</td>\n",
       "      <td>1860.000000</td>\n",
       "      <td>4.323850e+05</td>\n",
       "      <td>94102.000000</td>\n",
       "      <td>1.506329e+07</td>\n",
       "    </tr>\n",
       "    <tr>\n",
       "      <th>25%</th>\n",
       "      <td>5039.750000</td>\n",
       "      <td>1.000000</td>\n",
       "      <td>2.000000</td>\n",
       "      <td>1019.000000</td>\n",
       "      <td>7.292500e+05</td>\n",
       "      <td>37.739284</td>\n",
       "      <td>-122.455149</td>\n",
       "      <td>4.000000</td>\n",
       "      <td>1916.000000</td>\n",
       "      <td>9.052375e+05</td>\n",
       "      <td>94110.000000</td>\n",
       "      <td>1.510847e+07</td>\n",
       "    </tr>\n",
       "    <tr>\n",
       "      <th>50%</th>\n",
       "      <td>9198.500000</td>\n",
       "      <td>2.000000</td>\n",
       "      <td>2.000000</td>\n",
       "      <td>1362.000000</td>\n",
       "      <td>9.900000e+05</td>\n",
       "      <td>37.760514</td>\n",
       "      <td>-122.432510</td>\n",
       "      <td>5.000000</td>\n",
       "      <td>1940.000000</td>\n",
       "      <td>1.230758e+06</td>\n",
       "      <td>94115.000000</td>\n",
       "      <td>1.515697e+07</td>\n",
       "    </tr>\n",
       "    <tr>\n",
       "      <th>75%</th>\n",
       "      <td>13374.750000</td>\n",
       "      <td>2.000000</td>\n",
       "      <td>3.000000</td>\n",
       "      <td>1878.000000</td>\n",
       "      <td>1.450000e+06</td>\n",
       "      <td>37.781386</td>\n",
       "      <td>-122.413353</td>\n",
       "      <td>7.000000</td>\n",
       "      <td>1986.000000</td>\n",
       "      <td>1.731170e+06</td>\n",
       "      <td>94123.000000</td>\n",
       "      <td>5.970040e+07</td>\n",
       "    </tr>\n",
       "    <tr>\n",
       "      <th>max</th>\n",
       "      <td>17632.000000</td>\n",
       "      <td>14.000000</td>\n",
       "      <td>20.000000</td>\n",
       "      <td>27275.000000</td>\n",
       "      <td>2.388900e+07</td>\n",
       "      <td>37.806083</td>\n",
       "      <td>-122.381201</td>\n",
       "      <td>1264.000000</td>\n",
       "      <td>2016.000000</td>\n",
       "      <td>1.553325e+07</td>\n",
       "      <td>94158.000000</td>\n",
       "      <td>2.146999e+09</td>\n",
       "    </tr>\n",
       "  </tbody>\n",
       "</table>\n",
       "</div>"
      ],
      "text/plain": [
       "         Unnamed: 0     bathrooms      bedrooms  finishedsqft  lastsoldprice  \\\n",
       "count  11330.000000  11330.000000  11330.000000  11211.000000   1.133000e+04   \n",
       "mean    9171.729214      1.980229      2.614475   1586.081349   1.263928e+06   \n",
       "std     4921.941074      1.047358      1.299457    922.815803   1.042079e+06   \n",
       "min        2.000000      0.500000      0.000000      1.000000   5.350000e+02   \n",
       "25%     5039.750000      1.000000      2.000000   1019.000000   7.292500e+05   \n",
       "50%     9198.500000      2.000000      2.000000   1362.000000   9.900000e+05   \n",
       "75%    13374.750000      2.000000      3.000000   1878.000000   1.450000e+06   \n",
       "max    17632.000000     14.000000     20.000000  27275.000000   2.388900e+07   \n",
       "\n",
       "           latitude     longitude    totalrooms     yearbuilt     zestimate  \\\n",
       "count  11315.000000  11315.000000  11281.000000  11330.000000  1.133000e+04   \n",
       "mean      37.759715   -122.436508      6.113997   1948.498147  1.565695e+06   \n",
       "std        0.025583      0.030742     12.151195     37.911196  1.229417e+06   \n",
       "min       37.708170   -122.510726      1.000000   1860.000000  4.323850e+05   \n",
       "25%       37.739284   -122.455149      4.000000   1916.000000  9.052375e+05   \n",
       "50%       37.760514   -122.432510      5.000000   1940.000000  1.230758e+06   \n",
       "75%       37.781386   -122.413353      7.000000   1986.000000  1.731170e+06   \n",
       "max       37.806083   -122.381201   1264.000000   2016.000000  1.553325e+07   \n",
       "\n",
       "            zipcode          zpid  \n",
       "count  11330.000000  1.133000e+04  \n",
       "mean   94116.912004  3.689973e+07  \n",
       "std        9.400877  7.800741e+07  \n",
       "min    94102.000000  1.506329e+07  \n",
       "25%    94110.000000  1.510847e+07  \n",
       "50%    94115.000000  1.515697e+07  \n",
       "75%    94123.000000  5.970040e+07  \n",
       "max    94158.000000  2.146999e+09  "
      ]
     },
     "execution_count": 9,
     "metadata": {},
     "output_type": "execute_result"
    }
   ],
   "source": [
    "data.describe()"
   ]
  },
  {
   "cell_type": "markdown",
   "metadata": {
    "id": "RM1HPF69hjAz"
   },
   "source": [
    "Отсюда уже сразу можно увидеть выбросы. Например, видим, что имеется квартира с 1264 комнатами, квартира площадью 1 кв.фут, квартира стоимостью 535$ и т.д."
   ]
  },
  {
   "cell_type": "markdown",
   "metadata": {
    "id": "Hcbx-Yn-hjA0"
   },
   "source": [
    "### Удаление бесполезных признаков\n",
    "Рассмотрим на первый взгляд непонятный признак 'Unnamed: 0'. Проверим предположении, что это какой-то технический номер, который остался после формирования датасета, и на стоимость квартир влиять не будет."
   ]
  },
  {
   "cell_type": "code",
   "execution_count": 10,
   "metadata": {
    "colab": {
     "base_uri": "https://localhost:8080/"
    },
    "id": "q4T7YCfahjA0",
    "outputId": "3d55c19c-733a-4e02-872a-1544b34dba29"
   },
   "outputs": [
    {
     "data": {
      "text/plain": [
       "2        1\n",
       "11984    1\n",
       "12018    1\n",
       "12019    1\n",
       "12020    1\n",
       "        ..\n",
       "6536     1\n",
       "6538     1\n",
       "6539     1\n",
       "6540     1\n",
       "17632    1\n",
       "Name: Unnamed: 0, Length: 11330, dtype: int64"
      ]
     },
     "execution_count": 10,
     "metadata": {},
     "output_type": "execute_result"
    }
   ],
   "source": [
    "data['Unnamed: 0'].value_counts(dropna=False)"
   ]
  },
  {
   "cell_type": "markdown",
   "metadata": {
    "id": "DTzcfdsGhjA1"
   },
   "source": [
    "Видим, что зависимость линейная и эта колонка не представляет интереса. Ее можно удалить."
   ]
  },
  {
   "cell_type": "code",
   "execution_count": 11,
   "metadata": {
    "colab": {
     "base_uri": "https://localhost:8080/",
     "height": 265
    },
    "id": "vRcHL_DrhjA1",
    "outputId": "a797a664-0c05-4148-91c7-e99dad3f2f4c"
   },
   "outputs": [
    {
     "data": {
      "image/png": "[encoded data removed]",
      "text/plain": [
       "<Figure size 640x480 with 1 Axes>"
      ]
     },
     "metadata": {},
     "output_type": "display_data"
    }
   ],
   "source": [
    "plt.scatter(data.index, data['Unnamed: 0'], s=1)\n",
    "plt.grid()"
   ]
  },
  {
   "cell_type": "code",
   "execution_count": 12,
   "metadata": {
    "id": "QwATOh2khjA1"
   },
   "outputs": [],
   "source": [
    "data.drop(columns=['Unnamed: 0'], inplace=True)"
   ]
  },
  {
   "cell_type": "markdown",
   "metadata": {
    "id": "pxzrl22bhjA1"
   },
   "source": [
    "Также можно выбросить колонки 'zindexvalue', 'zpid' т.к. это артефакты, которые остались после оценки zestimate, которые никак не влияют на оценку стоимости квартиры."
   ]
  },
  {
   "cell_type": "code",
   "execution_count": 13,
   "metadata": {
    "id": "z87Bi7RghjA2"
   },
   "outputs": [],
   "source": [
    "data.drop(columns=['zindexvalue', 'zpid'], inplace=True)"
   ]
  },
  {
   "cell_type": "markdown",
   "metadata": {
    "id": "5EKcYKGNhjA2"
   },
   "source": [
    "Итого имеем 15 признаков (используем .columns). И теперь можно заняться пропущенными значениями и дальнейшим анализом."
   ]
  },
  {
   "cell_type": "code",
   "execution_count": 14,
   "metadata": {
    "colab": {
     "base_uri": "https://localhost:8080/"
    },
    "id": "_VDobMsAhjA2",
    "outputId": "cc956322-e8d9-48e8-a435-d8006f7b5202"
   },
   "outputs": [
    {
     "data": {
      "text/plain": [
       "Index(['address', 'z_address', 'bathrooms', 'bedrooms', 'finishedsqft',\n",
       "       'lastsolddate', 'lastsoldprice', 'latitude', 'longitude',\n",
       "       'neighborhood', 'totalrooms', 'usecode', 'yearbuilt', 'zestimate',\n",
       "       'zipcode'],\n",
       "      dtype='object')"
      ]
     },
     "execution_count": 14,
     "metadata": {},
     "output_type": "execute_result"
    }
   ],
   "source": [
    "data.columns"
   ]
  },
  {
   "cell_type": "markdown",
   "metadata": {
    "id": "dkoRG-xohjA2"
   },
   "source": [
    "### Обработка пропущенных значений\n",
    "Для начала посмотрим какое значение выдаст наша функция get_score без всяческой обработки, на сырых данных. Будем считать этот результат базовым."
   ]
  },
  {
   "cell_type": "code",
   "execution_count": 15,
   "metadata": {
    "colab": {
     "base_uri": "https://localhost:8080/"
    },
    "id": "vTnYMrkohjA2",
    "outputId": "702caca3-4436-46b8-e3f2-4cf09a62cfc4"
   },
   "outputs": [
    {
     "data": {
      "text/plain": [
       "0.8275249613455395"
      ]
     },
     "execution_count": 15,
     "metadata": {},
     "output_type": "execute_result"
    }
   ],
   "source": [
    "cols = ['bathrooms', 'bedrooms', 'finishedsqft', \n",
    "        'lastsoldprice', 'latitude', 'longitude',\n",
    "        'totalrooms', 'yearbuilt']\n",
    "target = ['zestimate']\n",
    "\n",
    "get_score(data.dropna()[cols], data.dropna()[target])"
   ]
  },
  {
   "cell_type": "markdown",
   "metadata": {
    "id": "k_ZCCOo9hjA3"
   },
   "source": [
    "Сначала посмотрим выбросы, а после этого будем заполнять пропущенные значения. Возьмем признак площади квартиры. Построим боксплот и посмотрим распределение."
   ]
  },
  {
   "cell_type": "markdown",
   "metadata": {
    "id": "Ly196707cBYt"
   },
   "source": [
    "#### finishedsqft"
   ]
  },
  {
   "cell_type": "code",
   "execution_count": 16,
   "metadata": {
    "colab": {
     "base_uri": "https://localhost:8080/",
     "height": 279
    },
    "id": "cnW1-Rv8hjA3",
    "outputId": "73cebca9-04a9-4e9c-f05c-9121e0c92823"
   },
   "outputs": [
    {
     "data": {
      "image/png": "[encoded data removed]",
      "text/plain": [
       "<Figure size 640x480 with 1 Axes>"
      ]
     },
     "metadata": {},
     "output_type": "display_data"
    }
   ],
   "source": [
    "get_boxplot(data, columns=['finishedsqft'])"
   ]
  },
  {
   "cell_type": "code",
   "execution_count": 17,
   "metadata": {
    "colab": {
     "base_uri": "https://localhost:8080/",
     "height": 265
    },
    "id": "OiN4FrKghjA3",
    "outputId": "d8be1086-25d4-45ad-a57e-7ce667e82391"
   },
   "outputs": [
    {
     "data": {
      "image/png": "[encoded data removed]",
      "text/plain": [
       "<Figure size 640x480 with 1 Axes>"
      ]
     },
     "metadata": {},
     "output_type": "display_data"
    }
   ],
   "source": [
    "data['finishedsqft'].hist(bins=100)\n",
    "plt.show()"
   ]
  },
  {
   "cell_type": "markdown",
   "metadata": {
    "id": "ZjmtUaKqhjA3"
   },
   "source": [
    "Видим явный выброс на боксплоте. Это явная ошибка при заполнении данных. Если посмотреть на этот объект подробнее, то можно увидеть, что на 6 комнат приходится 27275 кв. фут."
   ]
  },
  {
   "cell_type": "code",
   "execution_count": 18,
   "metadata": {
    "colab": {
     "base_uri": "https://localhost:8080/",
     "height": 197
    },
    "id": "WKu-6vvYhjA4",
    "outputId": "fc416fce-06b2-4703-d3c9-3591ec451c9b"
   },
   "outputs": [
    {
     "data": {
      "text/html": [
       "<div>\n",
       "<style scoped>\n",
       "    .dataframe tbody tr th:only-of-type {\n",
       "        vertical-align: middle;\n",
       "    }\n",
       "\n",
       "    .dataframe tbody tr th {\n",
       "        vertical-align: top;\n",
       "    }\n",
       "\n",
       "    .dataframe thead th {\n",
       "        text-align: right;\n",
       "    }\n",
       "</style>\n",
       "<table border=\"1\" class=\"dataframe\">\n",
       "  <thead>\n",
       "    <tr style=\"text-align: right;\">\n",
       "      <th></th>\n",
       "      <th>address</th>\n",
       "      <th>z_address</th>\n",
       "      <th>bathrooms</th>\n",
       "      <th>bedrooms</th>\n",
       "      <th>finishedsqft</th>\n",
       "      <th>lastsolddate</th>\n",
       "      <th>lastsoldprice</th>\n",
       "      <th>latitude</th>\n",
       "      <th>longitude</th>\n",
       "      <th>neighborhood</th>\n",
       "      <th>totalrooms</th>\n",
       "      <th>usecode</th>\n",
       "      <th>yearbuilt</th>\n",
       "      <th>zestimate</th>\n",
       "      <th>zipcode</th>\n",
       "    </tr>\n",
       "  </thead>\n",
       "  <tbody>\n",
       "    <tr>\n",
       "      <th>4997</th>\n",
       "      <td>Address: 1645 Pacific Avenue</td>\n",
       "      <td>1645 Pacific Ave</td>\n",
       "      <td>2.0</td>\n",
       "      <td>2.0</td>\n",
       "      <td>27275.0</td>\n",
       "      <td>03/31/2015</td>\n",
       "      <td>600000.0</td>\n",
       "      <td>37.794658</td>\n",
       "      <td>-122.422325</td>\n",
       "      <td>Nob Hill</td>\n",
       "      <td>6.0</td>\n",
       "      <td>Condominium</td>\n",
       "      <td>1906.0</td>\n",
       "      <td>6754185.0</td>\n",
       "      <td>94109.0</td>\n",
       "    </tr>\n",
       "  </tbody>\n",
       "</table>\n",
       "</div>"
      ],
      "text/plain": [
       "                           address         z_address  bathrooms  bedrooms  \\\n",
       "4997  Address: 1645 Pacific Avenue  1645 Pacific Ave        2.0       2.0   \n",
       "\n",
       "      finishedsqft lastsolddate  lastsoldprice   latitude   longitude  \\\n",
       "4997       27275.0   03/31/2015       600000.0  37.794658 -122.422325   \n",
       "\n",
       "     neighborhood  totalrooms      usecode  yearbuilt  zestimate  zipcode  \n",
       "4997     Nob Hill         6.0  Condominium     1906.0  6754185.0  94109.0  "
      ]
     },
     "execution_count": 18,
     "metadata": {},
     "output_type": "execute_result"
    }
   ],
   "source": [
    "data[data['finishedsqft'] > 15000]"
   ]
  },
  {
   "cell_type": "markdown",
   "metadata": {
    "id": "4rZXLQ5IhjA4"
   },
   "source": [
    "Удаляем выброс и заполняем нулевые значения методом линейной регрессии."
   ]
  },
  {
   "cell_type": "code",
   "execution_count": 19,
   "metadata": {
    "colab": {
     "base_uri": "https://localhost:8080/",
     "height": 113
    },
    "id": "bx8IQFqjaGY_",
    "outputId": "57998d7f-3917-4873-d256-ea675761967c"
   },
   "outputs": [
    {
     "data": {
      "text/html": [
       "<div>\n",
       "<style scoped>\n",
       "    .dataframe tbody tr th:only-of-type {\n",
       "        vertical-align: middle;\n",
       "    }\n",
       "\n",
       "    .dataframe tbody tr th {\n",
       "        vertical-align: top;\n",
       "    }\n",
       "\n",
       "    .dataframe thead th {\n",
       "        text-align: right;\n",
       "    }\n",
       "</style>\n",
       "<table border=\"1\" class=\"dataframe\">\n",
       "  <thead>\n",
       "    <tr style=\"text-align: right;\">\n",
       "      <th></th>\n",
       "      <th>address</th>\n",
       "      <th>z_address</th>\n",
       "      <th>bathrooms</th>\n",
       "      <th>bedrooms</th>\n",
       "      <th>finishedsqft</th>\n",
       "      <th>lastsolddate</th>\n",
       "      <th>lastsoldprice</th>\n",
       "      <th>latitude</th>\n",
       "      <th>longitude</th>\n",
       "      <th>neighborhood</th>\n",
       "      <th>totalrooms</th>\n",
       "      <th>usecode</th>\n",
       "      <th>yearbuilt</th>\n",
       "      <th>zestimate</th>\n",
       "      <th>zipcode</th>\n",
       "    </tr>\n",
       "  </thead>\n",
       "  <tbody>\n",
       "  </tbody>\n",
       "</table>\n",
       "</div>"
      ],
      "text/plain": [
       "Empty DataFrame\n",
       "Columns: [address, z_address, bathrooms, bedrooms, finishedsqft, lastsolddate, lastsoldprice, latitude, longitude, neighborhood, totalrooms, usecode, yearbuilt, zestimate, zipcode]\n",
       "Index: []"
      ]
     },
     "execution_count": 19,
     "metadata": {},
     "output_type": "execute_result"
    }
   ],
   "source": [
    "data = data[(data['finishedsqft'] < 15000) | (data['finishedsqft'].isna())]\n",
    "data[data['finishedsqft'] > 15000]"
   ]
  },
  {
   "cell_type": "code",
   "execution_count": 20,
   "metadata": {
    "colab": {
     "base_uri": "https://localhost:8080/"
    },
    "id": "HjDiwm6baJKE",
    "outputId": "db869b71-b523-42fc-bd57-965e5c76e778"
   },
   "outputs": [
    {
     "data": {
      "text/plain": [
       "119"
      ]
     },
     "execution_count": 20,
     "metadata": {},
     "output_type": "execute_result"
    }
   ],
   "source": [
    "data['finishedsqft'].isna().sum()"
   ]
  },
  {
   "cell_type": "code",
   "execution_count": 21,
   "metadata": {
    "colab": {
     "base_uri": "https://localhost:8080/",
     "height": 1000
    },
    "id": "bP5_cp2ChjA4",
    "outputId": "496b348a-3c80-4bb3-c13e-abf9c220d541",
    "scrolled": false
   },
   "outputs": [
    {
     "data": {
      "text/html": [
       "<div>\n",
       "<style scoped>\n",
       "    .dataframe tbody tr th:only-of-type {\n",
       "        vertical-align: middle;\n",
       "    }\n",
       "\n",
       "    .dataframe tbody tr th {\n",
       "        vertical-align: top;\n",
       "    }\n",
       "\n",
       "    .dataframe thead th {\n",
       "        text-align: right;\n",
       "    }\n",
       "</style>\n",
       "<table border=\"1\" class=\"dataframe\">\n",
       "  <thead>\n",
       "    <tr style=\"text-align: right;\">\n",
       "      <th></th>\n",
       "      <th>address</th>\n",
       "      <th>z_address</th>\n",
       "      <th>bathrooms</th>\n",
       "      <th>bedrooms</th>\n",
       "      <th>finishedsqft</th>\n",
       "      <th>lastsolddate</th>\n",
       "      <th>lastsoldprice</th>\n",
       "      <th>latitude</th>\n",
       "      <th>longitude</th>\n",
       "      <th>neighborhood</th>\n",
       "      <th>totalrooms</th>\n",
       "      <th>usecode</th>\n",
       "      <th>yearbuilt</th>\n",
       "      <th>zestimate</th>\n",
       "      <th>zipcode</th>\n",
       "    </tr>\n",
       "  </thead>\n",
       "  <tbody>\n",
       "    <tr>\n",
       "      <th>0</th>\n",
       "      <td>Address: 1160 Mission Street #2007</td>\n",
       "      <td>1160 Mission St UNIT 2007</td>\n",
       "      <td>2.0</td>\n",
       "      <td>2.0</td>\n",
       "      <td>1043.0</td>\n",
       "      <td>02/17/2016</td>\n",
       "      <td>1300000.0</td>\n",
       "      <td>37.778705</td>\n",
       "      <td>-122.412635</td>\n",
       "      <td>South of Market</td>\n",
       "      <td>4.0</td>\n",
       "      <td>Condominium</td>\n",
       "      <td>2007.0</td>\n",
       "      <td>1167508.0</td>\n",
       "      <td>94103.0</td>\n",
       "    </tr>\n",
       "    <tr>\n",
       "      <th>1</th>\n",
       "      <td>Address: 260 King Street #475</td>\n",
       "      <td>260 King St UNIT 475</td>\n",
       "      <td>1.0</td>\n",
       "      <td>1.0</td>\n",
       "      <td>903.0</td>\n",
       "      <td>02/17/2016</td>\n",
       "      <td>750000.0</td>\n",
       "      <td>37.777641</td>\n",
       "      <td>-122.393417</td>\n",
       "      <td>South of Market</td>\n",
       "      <td>3.0</td>\n",
       "      <td>Condominium</td>\n",
       "      <td>2004.0</td>\n",
       "      <td>823719.0</td>\n",
       "      <td>94107.0</td>\n",
       "    </tr>\n",
       "    <tr>\n",
       "      <th>2</th>\n",
       "      <td>Address: 560 Missouri Street #B</td>\n",
       "      <td>560 Missouri St # B</td>\n",
       "      <td>4.0</td>\n",
       "      <td>3.0</td>\n",
       "      <td>1425.0</td>\n",
       "      <td>02/17/2016</td>\n",
       "      <td>1495000.0</td>\n",
       "      <td>37.759198</td>\n",
       "      <td>-122.396516</td>\n",
       "      <td>Potrero Hill</td>\n",
       "      <td>6.0</td>\n",
       "      <td>Condominium</td>\n",
       "      <td>2003.0</td>\n",
       "      <td>1708594.0</td>\n",
       "      <td>94107.0</td>\n",
       "    </tr>\n",
       "    <tr>\n",
       "      <th>3</th>\n",
       "      <td>Address: 350 Missouri Street</td>\n",
       "      <td>350 Missouri St</td>\n",
       "      <td>3.0</td>\n",
       "      <td>3.0</td>\n",
       "      <td>2231.0</td>\n",
       "      <td>02/17/2016</td>\n",
       "      <td>2700000.0</td>\n",
       "      <td>37.761886</td>\n",
       "      <td>-122.396769</td>\n",
       "      <td>Potrero Hill</td>\n",
       "      <td>10.0</td>\n",
       "      <td>SingleFamily</td>\n",
       "      <td>1927.0</td>\n",
       "      <td>2411236.0</td>\n",
       "      <td>94107.0</td>\n",
       "    </tr>\n",
       "    <tr>\n",
       "      <th>4</th>\n",
       "      <td>Address: 3658 Folsom Street</td>\n",
       "      <td>3658 Folsom St</td>\n",
       "      <td>3.0</td>\n",
       "      <td>3.0</td>\n",
       "      <td>1300.0</td>\n",
       "      <td>02/17/2016</td>\n",
       "      <td>1530000.0</td>\n",
       "      <td>37.740795</td>\n",
       "      <td>-122.413453</td>\n",
       "      <td>Bernal Heights</td>\n",
       "      <td>4.0</td>\n",
       "      <td>SingleFamily</td>\n",
       "      <td>1900.0</td>\n",
       "      <td>1918539.0</td>\n",
       "      <td>94110.0</td>\n",
       "    </tr>\n",
       "  </tbody>\n",
       "</table>\n",
       "</div>"
      ],
      "text/plain": [
       "                              address                  z_address  bathrooms  \\\n",
       "0  Address: 1160 Mission Street #2007  1160 Mission St UNIT 2007        2.0   \n",
       "1       Address: 260 King Street #475       260 King St UNIT 475        1.0   \n",
       "2     Address: 560 Missouri Street #B        560 Missouri St # B        4.0   \n",
       "3        Address: 350 Missouri Street            350 Missouri St        3.0   \n",
       "4         Address: 3658 Folsom Street             3658 Folsom St        3.0   \n",
       "\n",
       "   bedrooms  finishedsqft lastsolddate  lastsoldprice   latitude   longitude  \\\n",
       "0       2.0        1043.0   02/17/2016      1300000.0  37.778705 -122.412635   \n",
       "1       1.0         903.0   02/17/2016       750000.0  37.777641 -122.393417   \n",
       "2       3.0        1425.0   02/17/2016      1495000.0  37.759198 -122.396516   \n",
       "3       3.0        2231.0   02/17/2016      2700000.0  37.761886 -122.396769   \n",
       "4       3.0        1300.0   02/17/2016      1530000.0  37.740795 -122.413453   \n",
       "\n",
       "      neighborhood  totalrooms       usecode  yearbuilt  zestimate  zipcode  \n",
       "0  South of Market         4.0   Condominium     2007.0  1167508.0  94103.0  \n",
       "1  South of Market         3.0   Condominium     2004.0   823719.0  94107.0  \n",
       "2     Potrero Hill         6.0   Condominium     2003.0  1708594.0  94107.0  \n",
       "3     Potrero Hill        10.0  SingleFamily     1927.0  2411236.0  94107.0  \n",
       "4   Bernal Heights         4.0  SingleFamily     1900.0  1918539.0  94110.0  "
      ]
     },
     "execution_count": 21,
     "metadata": {},
     "output_type": "execute_result"
    }
   ],
   "source": [
    "get_value(X=data,\n",
    "          column='finishedsqft',\n",
    "          mode='linreg',\n",
    "          columns_for_reg=['bathrooms', 'bedrooms', 'lastsoldprice', 'latitude', 'longitude', 'yearbuilt'])"
   ]
  },
  {
   "cell_type": "code",
   "execution_count": 22,
   "metadata": {
    "colab": {
     "base_uri": "https://localhost:8080/"
    },
    "id": "1NNAZphhaUii",
    "outputId": "e75d74ae-6765-463b-f1ad-0b01b5645a81"
   },
   "outputs": [
    {
     "data": {
      "text/plain": [
       "address           0\n",
       "z_address         0\n",
       "bathrooms         0\n",
       "bedrooms          0\n",
       "finishedsqft      0\n",
       "lastsolddate      0\n",
       "lastsoldprice     0\n",
       "latitude         15\n",
       "longitude        15\n",
       "neighborhood      0\n",
       "totalrooms       49\n",
       "usecode          40\n",
       "yearbuilt         0\n",
       "zestimate         0\n",
       "zipcode           0\n",
       "dtype: int64"
      ]
     },
     "execution_count": 22,
     "metadata": {},
     "output_type": "execute_result"
    }
   ],
   "source": [
    "data.isna().sum()"
   ]
  },
  {
   "cell_type": "markdown",
   "metadata": {
    "id": "fYwxrNQ1cD4U"
   },
   "source": [
    "#### latitude и longitude"
   ]
  },
  {
   "cell_type": "markdown",
   "metadata": {
    "id": "-CTZuPK7hjA4"
   },
   "source": [
    "Посмотрим на широтy и долготу. Видим, что во всех выбросах широты и долготы, пропущены сразу оба значения. Нет объектов, где пропущено что-то одно (берем индексы NaN'ов из широты, делаем из них множество и вычетаем множество индексов NaN'ов долготы, получаем пустое множество)."
   ]
  },
  {
   "cell_type": "code",
   "execution_count": 23,
   "metadata": {
    "colab": {
     "base_uri": "https://localhost:8080/"
    },
    "id": "T8N1YbkphjA4",
    "outputId": "fd57a520-0fe1-4618-f516-ed06bf0fbcfb"
   },
   "outputs": [
    {
     "data": {
      "text/plain": [
       "set()"
      ]
     },
     "execution_count": 23,
     "metadata": {},
     "output_type": "execute_result"
    }
   ],
   "source": [
    "set(data[data['latitude'].isna()].index) - set(data[data['longitude'].isna()].index)"
   ]
  },
  {
   "cell_type": "code",
   "execution_count": 24,
   "metadata": {
    "colab": {
     "base_uri": "https://localhost:8080/",
     "height": 1000
    },
    "id": "P78Axi98aekS",
    "outputId": "07371404-317c-4128-847d-f50e31ca306b"
   },
   "outputs": [
    {
     "data": {
      "text/html": [
       "<div>\n",
       "<style scoped>\n",
       "    .dataframe tbody tr th:only-of-type {\n",
       "        vertical-align: middle;\n",
       "    }\n",
       "\n",
       "    .dataframe tbody tr th {\n",
       "        vertical-align: top;\n",
       "    }\n",
       "\n",
       "    .dataframe thead th {\n",
       "        text-align: right;\n",
       "    }\n",
       "</style>\n",
       "<table border=\"1\" class=\"dataframe\">\n",
       "  <thead>\n",
       "    <tr style=\"text-align: right;\">\n",
       "      <th></th>\n",
       "      <th>address</th>\n",
       "      <th>z_address</th>\n",
       "      <th>bathrooms</th>\n",
       "      <th>bedrooms</th>\n",
       "      <th>finishedsqft</th>\n",
       "      <th>lastsolddate</th>\n",
       "      <th>lastsoldprice</th>\n",
       "      <th>latitude</th>\n",
       "      <th>longitude</th>\n",
       "      <th>neighborhood</th>\n",
       "      <th>totalrooms</th>\n",
       "      <th>usecode</th>\n",
       "      <th>yearbuilt</th>\n",
       "      <th>zestimate</th>\n",
       "      <th>zipcode</th>\n",
       "    </tr>\n",
       "  </thead>\n",
       "  <tbody>\n",
       "    <tr>\n",
       "      <th>830</th>\n",
       "      <td>Address: 1566 27th Avenue</td>\n",
       "      <td>1566 27th Ave</td>\n",
       "      <td>3.5</td>\n",
       "      <td>3.0</td>\n",
       "      <td>2050.0</td>\n",
       "      <td>10/22/2015</td>\n",
       "      <td>1320000.0</td>\n",
       "      <td>NaN</td>\n",
       "      <td>NaN</td>\n",
       "      <td>Central Sunset</td>\n",
       "      <td>6.0</td>\n",
       "      <td>SingleFamily</td>\n",
       "      <td>1931.0</td>\n",
       "      <td>1371619.0</td>\n",
       "      <td>94122.0</td>\n",
       "    </tr>\n",
       "    <tr>\n",
       "      <th>2120</th>\n",
       "      <td>Address: 2033 Judah Street</td>\n",
       "      <td>2033-2035 Judah St</td>\n",
       "      <td>4.0</td>\n",
       "      <td>4.0</td>\n",
       "      <td>2500.0</td>\n",
       "      <td>05/22/2015</td>\n",
       "      <td>1480000.0</td>\n",
       "      <td>NaN</td>\n",
       "      <td>NaN</td>\n",
       "      <td>Central Sunset</td>\n",
       "      <td>12.0</td>\n",
       "      <td>MultiFamily2To4</td>\n",
       "      <td>1948.0</td>\n",
       "      <td>1533582.0</td>\n",
       "      <td>94122.0</td>\n",
       "    </tr>\n",
       "    <tr>\n",
       "      <th>2360</th>\n",
       "      <td>Address: 465 Myra Way</td>\n",
       "      <td>465 Myra Way</td>\n",
       "      <td>2.5</td>\n",
       "      <td>3.0</td>\n",
       "      <td>1800.0</td>\n",
       "      <td>04/24/2015</td>\n",
       "      <td>1260000.0</td>\n",
       "      <td>NaN</td>\n",
       "      <td>NaN</td>\n",
       "      <td>Miraloma Park</td>\n",
       "      <td>6.0</td>\n",
       "      <td>SingleFamily</td>\n",
       "      <td>1962.0</td>\n",
       "      <td>1290743.0</td>\n",
       "      <td>94127.0</td>\n",
       "    </tr>\n",
       "    <tr>\n",
       "      <th>5150</th>\n",
       "      <td>Address: 2342 Octavia Street</td>\n",
       "      <td>2342 Octavia St</td>\n",
       "      <td>3.5</td>\n",
       "      <td>4.0</td>\n",
       "      <td>2857.0</td>\n",
       "      <td>05/21/2014</td>\n",
       "      <td>3700000.0</td>\n",
       "      <td>NaN</td>\n",
       "      <td>NaN</td>\n",
       "      <td>Pacific Heights</td>\n",
       "      <td>7.0</td>\n",
       "      <td>SingleFamily</td>\n",
       "      <td>1939.0</td>\n",
       "      <td>4814430.0</td>\n",
       "      <td>94109.0</td>\n",
       "    </tr>\n",
       "    <tr>\n",
       "      <th>5835</th>\n",
       "      <td>Address: 3189 Cesar Chavez #2</td>\n",
       "      <td>3189 Cesar Chavez # 2</td>\n",
       "      <td>2.0</td>\n",
       "      <td>3.0</td>\n",
       "      <td>1807.0</td>\n",
       "      <td>03/25/2014</td>\n",
       "      <td>775000.0</td>\n",
       "      <td>NaN</td>\n",
       "      <td>NaN</td>\n",
       "      <td>Bernal Heights</td>\n",
       "      <td>6.0</td>\n",
       "      <td>Condominium</td>\n",
       "      <td>1981.0</td>\n",
       "      <td>2045775.0</td>\n",
       "      <td>94110.0</td>\n",
       "    </tr>\n",
       "    <tr>\n",
       "      <th>7987</th>\n",
       "      <td>Address: 331 Capistrano Avenue</td>\n",
       "      <td>331 Capistrano Ave</td>\n",
       "      <td>2.0</td>\n",
       "      <td>4.0</td>\n",
       "      <td>1668.0</td>\n",
       "      <td>08/09/2013</td>\n",
       "      <td>803000.0</td>\n",
       "      <td>NaN</td>\n",
       "      <td>NaN</td>\n",
       "      <td>Mission Terrace</td>\n",
       "      <td>9.0</td>\n",
       "      <td>SingleFamily</td>\n",
       "      <td>1925.0</td>\n",
       "      <td>1180548.0</td>\n",
       "      <td>94112.0</td>\n",
       "    </tr>\n",
       "    <tr>\n",
       "      <th>8307</th>\n",
       "      <td>Address: 5853 Mission Street #4</td>\n",
       "      <td>5853 Mission St APT 4</td>\n",
       "      <td>1.0</td>\n",
       "      <td>2.0</td>\n",
       "      <td>780.0</td>\n",
       "      <td>01/30/2015</td>\n",
       "      <td>350000.0</td>\n",
       "      <td>NaN</td>\n",
       "      <td>NaN</td>\n",
       "      <td>Crocker Amazon</td>\n",
       "      <td>5.0</td>\n",
       "      <td>Condominium</td>\n",
       "      <td>1980.0</td>\n",
       "      <td>558681.0</td>\n",
       "      <td>94112.0</td>\n",
       "    </tr>\n",
       "    <tr>\n",
       "      <th>8651</th>\n",
       "      <td>Address: 3438 Taraval Street</td>\n",
       "      <td>3438 Taraval St</td>\n",
       "      <td>2.0</td>\n",
       "      <td>1.0</td>\n",
       "      <td>1062.0</td>\n",
       "      <td>04/23/2013</td>\n",
       "      <td>650000.0</td>\n",
       "      <td>NaN</td>\n",
       "      <td>NaN</td>\n",
       "      <td>Outer Parkside</td>\n",
       "      <td>5.0</td>\n",
       "      <td>SingleFamily</td>\n",
       "      <td>1941.0</td>\n",
       "      <td>887624.0</td>\n",
       "      <td>94116.0</td>\n",
       "    </tr>\n",
       "    <tr>\n",
       "      <th>9108</th>\n",
       "      <td>Address: 1 South Park Street #305</td>\n",
       "      <td>1 S Park St APT 305</td>\n",
       "      <td>2.0</td>\n",
       "      <td>2.0</td>\n",
       "      <td>1374.0</td>\n",
       "      <td>02/28/2013</td>\n",
       "      <td>1500000.0</td>\n",
       "      <td>NaN</td>\n",
       "      <td>NaN</td>\n",
       "      <td>South Beach</td>\n",
       "      <td>5.0</td>\n",
       "      <td>Condominium</td>\n",
       "      <td>2007.0</td>\n",
       "      <td>1859234.0</td>\n",
       "      <td>94107.0</td>\n",
       "    </tr>\n",
       "    <tr>\n",
       "      <th>9517</th>\n",
       "      <td>Address: 1021 Divisadero Street</td>\n",
       "      <td>1021-1023 Divisadero St</td>\n",
       "      <td>2.0</td>\n",
       "      <td>7.0</td>\n",
       "      <td>2950.0</td>\n",
       "      <td>12/28/2012</td>\n",
       "      <td>392500.0</td>\n",
       "      <td>NaN</td>\n",
       "      <td>NaN</td>\n",
       "      <td>North Panhandle</td>\n",
       "      <td>11.0</td>\n",
       "      <td>MultiFamily2To4</td>\n",
       "      <td>1900.0</td>\n",
       "      <td>2270942.0</td>\n",
       "      <td>94115.0</td>\n",
       "    </tr>\n",
       "    <tr>\n",
       "      <th>9879</th>\n",
       "      <td>Address: 970 Wisconsin Street #1</td>\n",
       "      <td>970 Wisconsin St # 1</td>\n",
       "      <td>2.0</td>\n",
       "      <td>3.0</td>\n",
       "      <td>825.0</td>\n",
       "      <td>11/21/2012</td>\n",
       "      <td>649000.0</td>\n",
       "      <td>NaN</td>\n",
       "      <td>NaN</td>\n",
       "      <td>Potrero Hill</td>\n",
       "      <td>5.0</td>\n",
       "      <td>Condominium</td>\n",
       "      <td>1992.0</td>\n",
       "      <td>890937.0</td>\n",
       "      <td>94107.0</td>\n",
       "    </tr>\n",
       "    <tr>\n",
       "      <th>10224</th>\n",
       "      <td>Address: 610 8th Avenue</td>\n",
       "      <td>610 8th Ave</td>\n",
       "      <td>3.5</td>\n",
       "      <td>3.0</td>\n",
       "      <td>2282.0</td>\n",
       "      <td>10/18/2012</td>\n",
       "      <td>1730000.0</td>\n",
       "      <td>NaN</td>\n",
       "      <td>NaN</td>\n",
       "      <td>Inner Richmond</td>\n",
       "      <td>8.0</td>\n",
       "      <td>SingleFamily</td>\n",
       "      <td>1912.0</td>\n",
       "      <td>2078799.0</td>\n",
       "      <td>94118.0</td>\n",
       "    </tr>\n",
       "    <tr>\n",
       "      <th>10710</th>\n",
       "      <td>Address: 11 High Street #202</td>\n",
       "      <td>11 High St APT 202</td>\n",
       "      <td>2.0</td>\n",
       "      <td>2.0</td>\n",
       "      <td>1178.0</td>\n",
       "      <td>08/29/2012</td>\n",
       "      <td>740000.0</td>\n",
       "      <td>NaN</td>\n",
       "      <td>NaN</td>\n",
       "      <td>Noe Valley</td>\n",
       "      <td>5.0</td>\n",
       "      <td>Condominium</td>\n",
       "      <td>1980.0</td>\n",
       "      <td>1226801.0</td>\n",
       "      <td>94114.0</td>\n",
       "    </tr>\n",
       "    <tr>\n",
       "      <th>10910</th>\n",
       "      <td>Address: 1410 15th Street</td>\n",
       "      <td>1410 15th St</td>\n",
       "      <td>2.0</td>\n",
       "      <td>3.0</td>\n",
       "      <td>1490.0</td>\n",
       "      <td>08/10/2012</td>\n",
       "      <td>800000.0</td>\n",
       "      <td>NaN</td>\n",
       "      <td>NaN</td>\n",
       "      <td>Mission</td>\n",
       "      <td>7.0</td>\n",
       "      <td>Condominium</td>\n",
       "      <td>1900.0</td>\n",
       "      <td>1619327.0</td>\n",
       "      <td>94103.0</td>\n",
       "    </tr>\n",
       "    <tr>\n",
       "      <th>11314</th>\n",
       "      <td>Address: 1015 Ashbury Street #2</td>\n",
       "      <td>1015 Ashbury St APT 2</td>\n",
       "      <td>2.0</td>\n",
       "      <td>2.0</td>\n",
       "      <td>1252.0</td>\n",
       "      <td>02/05/2016</td>\n",
       "      <td>1350000.0</td>\n",
       "      <td>NaN</td>\n",
       "      <td>NaN</td>\n",
       "      <td>Parnassus - Ashbury</td>\n",
       "      <td>NaN</td>\n",
       "      <td>Condominium</td>\n",
       "      <td>1913.0</td>\n",
       "      <td>1320620.0</td>\n",
       "      <td>94117.0</td>\n",
       "    </tr>\n",
       "  </tbody>\n",
       "</table>\n",
       "</div>"
      ],
      "text/plain": [
       "                                 address                z_address  bathrooms  \\\n",
       "830            Address: 1566 27th Avenue            1566 27th Ave        3.5   \n",
       "2120          Address: 2033 Judah Street       2033-2035 Judah St        4.0   \n",
       "2360               Address: 465 Myra Way             465 Myra Way        2.5   \n",
       "5150        Address: 2342 Octavia Street          2342 Octavia St        3.5   \n",
       "5835       Address: 3189 Cesar Chavez #2    3189 Cesar Chavez # 2        2.0   \n",
       "7987      Address: 331 Capistrano Avenue       331 Capistrano Ave        2.0   \n",
       "8307     Address: 5853 Mission Street #4    5853 Mission St APT 4        1.0   \n",
       "8651        Address: 3438 Taraval Street          3438 Taraval St        2.0   \n",
       "9108   Address: 1 South Park Street #305      1 S Park St APT 305        2.0   \n",
       "9517     Address: 1021 Divisadero Street  1021-1023 Divisadero St        2.0   \n",
       "9879    Address: 970 Wisconsin Street #1     970 Wisconsin St # 1        2.0   \n",
       "10224            Address: 610 8th Avenue              610 8th Ave        3.5   \n",
       "10710       Address: 11 High Street #202       11 High St APT 202        2.0   \n",
       "10910          Address: 1410 15th Street             1410 15th St        2.0   \n",
       "11314    Address: 1015 Ashbury Street #2    1015 Ashbury St APT 2        2.0   \n",
       "\n",
       "       bedrooms  finishedsqft lastsolddate  lastsoldprice  latitude  \\\n",
       "830         3.0        2050.0   10/22/2015      1320000.0       NaN   \n",
       "2120        4.0        2500.0   05/22/2015      1480000.0       NaN   \n",
       "2360        3.0        1800.0   04/24/2015      1260000.0       NaN   \n",
       "5150        4.0        2857.0   05/21/2014      3700000.0       NaN   \n",
       "5835        3.0        1807.0   03/25/2014       775000.0       NaN   \n",
       "7987        4.0        1668.0   08/09/2013       803000.0       NaN   \n",
       "8307        2.0         780.0   01/30/2015       350000.0       NaN   \n",
       "8651        1.0        1062.0   04/23/2013       650000.0       NaN   \n",
       "9108        2.0        1374.0   02/28/2013      1500000.0       NaN   \n",
       "9517        7.0        2950.0   12/28/2012       392500.0       NaN   \n",
       "9879        3.0         825.0   11/21/2012       649000.0       NaN   \n",
       "10224       3.0        2282.0   10/18/2012      1730000.0       NaN   \n",
       "10710       2.0        1178.0   08/29/2012       740000.0       NaN   \n",
       "10910       3.0        1490.0   08/10/2012       800000.0       NaN   \n",
       "11314       2.0        1252.0   02/05/2016      1350000.0       NaN   \n",
       "\n",
       "       longitude         neighborhood  totalrooms          usecode  yearbuilt  \\\n",
       "830          NaN       Central Sunset         6.0     SingleFamily     1931.0   \n",
       "2120         NaN       Central Sunset        12.0  MultiFamily2To4     1948.0   \n",
       "2360         NaN        Miraloma Park         6.0     SingleFamily     1962.0   \n",
       "5150         NaN      Pacific Heights         7.0     SingleFamily     1939.0   \n",
       "5835         NaN       Bernal Heights         6.0      Condominium     1981.0   \n",
       "7987         NaN      Mission Terrace         9.0     SingleFamily     1925.0   \n",
       "8307         NaN       Crocker Amazon         5.0      Condominium     1980.0   \n",
       "8651         NaN       Outer Parkside         5.0     SingleFamily     1941.0   \n",
       "9108         NaN          South Beach         5.0      Condominium     2007.0   \n",
       "9517         NaN      North Panhandle        11.0  MultiFamily2To4     1900.0   \n",
       "9879         NaN         Potrero Hill         5.0      Condominium     1992.0   \n",
       "10224        NaN       Inner Richmond         8.0     SingleFamily     1912.0   \n",
       "10710        NaN           Noe Valley         5.0      Condominium     1980.0   \n",
       "10910        NaN              Mission         7.0      Condominium     1900.0   \n",
       "11314        NaN  Parnassus - Ashbury         NaN      Condominium     1913.0   \n",
       "\n",
       "       zestimate  zipcode  \n",
       "830    1371619.0  94122.0  \n",
       "2120   1533582.0  94122.0  \n",
       "2360   1290743.0  94127.0  \n",
       "5150   4814430.0  94109.0  \n",
       "5835   2045775.0  94110.0  \n",
       "7987   1180548.0  94112.0  \n",
       "8307    558681.0  94112.0  \n",
       "8651    887624.0  94116.0  \n",
       "9108   1859234.0  94107.0  \n",
       "9517   2270942.0  94115.0  \n",
       "9879    890937.0  94107.0  \n",
       "10224  2078799.0  94118.0  \n",
       "10710  1226801.0  94114.0  \n",
       "10910  1619327.0  94103.0  \n",
       "11314  1320620.0  94117.0  "
      ]
     },
     "execution_count": 24,
     "metadata": {},
     "output_type": "execute_result"
    }
   ],
   "source": [
    "data[data['latitude'].isna()]"
   ]
  },
  {
   "cell_type": "markdown",
   "metadata": {
    "id": "pNT9rzXmhjA5"
   },
   "source": [
    "Посмотрим есть ли у этих квартир пересечения по адресу с другими. Видим пересечение только у 3 объектов. Их можно заполнить скопировав широту и долготу."
   ]
  },
  {
   "cell_type": "code",
   "execution_count": 25,
   "metadata": {
    "colab": {
     "base_uri": "https://localhost:8080/"
    },
    "id": "Biv_RT3mhjA5",
    "outputId": "904a496a-d00d-4bfd-cb16-681b5ee73378"
   },
   "outputs": [
    {
     "data": {
      "text/plain": [
       "{'1015 Ashbury St APT 2', '1566 27th Ave', '5853 Mission St APT 4'}"
      ]
     },
     "execution_count": 25,
     "metadata": {},
     "output_type": "execute_result"
    }
   ],
   "source": [
    "set(data[data['latitude'].isna()]['z_address']) & set(data[~data['latitude'].isna()]['z_address'])"
   ]
  },
  {
   "cell_type": "code",
   "execution_count": 26,
   "metadata": {
    "colab": {
     "base_uri": "https://localhost:8080/",
     "height": 517
    },
    "id": "yCqOpYntanSU",
    "outputId": "2c583900-cc89-4808-abde-4d9421eac0fb"
   },
   "outputs": [
    {
     "data": {
      "text/html": [
       "<div>\n",
       "<style scoped>\n",
       "    .dataframe tbody tr th:only-of-type {\n",
       "        vertical-align: middle;\n",
       "    }\n",
       "\n",
       "    .dataframe tbody tr th {\n",
       "        vertical-align: top;\n",
       "    }\n",
       "\n",
       "    .dataframe thead th {\n",
       "        text-align: right;\n",
       "    }\n",
       "</style>\n",
       "<table border=\"1\" class=\"dataframe\">\n",
       "  <thead>\n",
       "    <tr style=\"text-align: right;\">\n",
       "      <th></th>\n",
       "      <th>address</th>\n",
       "      <th>z_address</th>\n",
       "      <th>bathrooms</th>\n",
       "      <th>bedrooms</th>\n",
       "      <th>finishedsqft</th>\n",
       "      <th>lastsolddate</th>\n",
       "      <th>lastsoldprice</th>\n",
       "      <th>latitude</th>\n",
       "      <th>longitude</th>\n",
       "      <th>neighborhood</th>\n",
       "      <th>totalrooms</th>\n",
       "      <th>usecode</th>\n",
       "      <th>yearbuilt</th>\n",
       "      <th>zestimate</th>\n",
       "      <th>zipcode</th>\n",
       "    </tr>\n",
       "  </thead>\n",
       "  <tbody>\n",
       "    <tr>\n",
       "      <th>61</th>\n",
       "      <td>Address: 1015 Ashbury Street #2</td>\n",
       "      <td>1015 Ashbury St APT 2</td>\n",
       "      <td>2.0</td>\n",
       "      <td>2.0</td>\n",
       "      <td>1252.000000</td>\n",
       "      <td>02/05/2016</td>\n",
       "      <td>1350000.0</td>\n",
       "      <td>37.76432</td>\n",
       "      <td>-122.446342</td>\n",
       "      <td>Parnassus - Ashbury</td>\n",
       "      <td>4.0</td>\n",
       "      <td>Condominium</td>\n",
       "      <td>1913.0</td>\n",
       "      <td>1300995.0</td>\n",
       "      <td>94117.0</td>\n",
       "    </tr>\n",
       "    <tr>\n",
       "      <th>8551</th>\n",
       "      <td>Address: 1015 Ashbury Street #2</td>\n",
       "      <td>1015 Ashbury St APT 2</td>\n",
       "      <td>2.0</td>\n",
       "      <td>2.0</td>\n",
       "      <td>1252.000000</td>\n",
       "      <td>02/05/2016</td>\n",
       "      <td>1350000.0</td>\n",
       "      <td>37.76432</td>\n",
       "      <td>-122.446342</td>\n",
       "      <td>Parnassus - Ashbury</td>\n",
       "      <td>4.0</td>\n",
       "      <td>Condominium</td>\n",
       "      <td>1913.0</td>\n",
       "      <td>1319182.0</td>\n",
       "      <td>94117.0</td>\n",
       "    </tr>\n",
       "    <tr>\n",
       "      <th>9375</th>\n",
       "      <td>Address: 1015 Ashbury Street #2</td>\n",
       "      <td>1015 Ashbury St APT 2</td>\n",
       "      <td>2.0</td>\n",
       "      <td>2.0</td>\n",
       "      <td>1563.642786</td>\n",
       "      <td>02/05/2016</td>\n",
       "      <td>1350000.0</td>\n",
       "      <td>37.76432</td>\n",
       "      <td>-122.446342</td>\n",
       "      <td>Parnassus - Ashbury</td>\n",
       "      <td>4.0</td>\n",
       "      <td>Condominium</td>\n",
       "      <td>1913.0</td>\n",
       "      <td>1319182.0</td>\n",
       "      <td>94117.0</td>\n",
       "    </tr>\n",
       "    <tr>\n",
       "      <th>11314</th>\n",
       "      <td>Address: 1015 Ashbury Street #2</td>\n",
       "      <td>1015 Ashbury St APT 2</td>\n",
       "      <td>2.0</td>\n",
       "      <td>2.0</td>\n",
       "      <td>1252.000000</td>\n",
       "      <td>02/05/2016</td>\n",
       "      <td>1350000.0</td>\n",
       "      <td>NaN</td>\n",
       "      <td>NaN</td>\n",
       "      <td>Parnassus - Ashbury</td>\n",
       "      <td>NaN</td>\n",
       "      <td>Condominium</td>\n",
       "      <td>1913.0</td>\n",
       "      <td>1320620.0</td>\n",
       "      <td>94117.0</td>\n",
       "    </tr>\n",
       "  </tbody>\n",
       "</table>\n",
       "</div>"
      ],
      "text/plain": [
       "                               address              z_address  bathrooms  \\\n",
       "61     Address: 1015 Ashbury Street #2  1015 Ashbury St APT 2        2.0   \n",
       "8551   Address: 1015 Ashbury Street #2  1015 Ashbury St APT 2        2.0   \n",
       "9375   Address: 1015 Ashbury Street #2  1015 Ashbury St APT 2        2.0   \n",
       "11314  Address: 1015 Ashbury Street #2  1015 Ashbury St APT 2        2.0   \n",
       "\n",
       "       bedrooms  finishedsqft lastsolddate  lastsoldprice  latitude  \\\n",
       "61          2.0   1252.000000   02/05/2016      1350000.0  37.76432   \n",
       "8551        2.0   1252.000000   02/05/2016      1350000.0  37.76432   \n",
       "9375        2.0   1563.642786   02/05/2016      1350000.0  37.76432   \n",
       "11314       2.0   1252.000000   02/05/2016      1350000.0       NaN   \n",
       "\n",
       "        longitude         neighborhood  totalrooms      usecode  yearbuilt  \\\n",
       "61    -122.446342  Parnassus - Ashbury         4.0  Condominium     1913.0   \n",
       "8551  -122.446342  Parnassus - Ashbury         4.0  Condominium     1913.0   \n",
       "9375  -122.446342  Parnassus - Ashbury         4.0  Condominium     1913.0   \n",
       "11314         NaN  Parnassus - Ashbury         NaN  Condominium     1913.0   \n",
       "\n",
       "       zestimate  zipcode  \n",
       "61     1300995.0  94117.0  \n",
       "8551   1319182.0  94117.0  \n",
       "9375   1319182.0  94117.0  \n",
       "11314  1320620.0  94117.0  "
      ]
     },
     "execution_count": 26,
     "metadata": {},
     "output_type": "execute_result"
    }
   ],
   "source": [
    "data[data['z_address'] == '1015 Ashbury St APT 2']"
   ]
  },
  {
   "cell_type": "code",
   "execution_count": 27,
   "metadata": {
    "id": "JDo4daNbhjA5"
   },
   "outputs": [],
   "source": [
    "for i, el in data[data['latitude'].isna()].iterrows():\n",
    "    cur_el = data[data['z_address'] == el['z_address']]\n",
    "    if cur_el.shape[0] > 0:\n",
    "        data.loc[i, 'latitude'] = cur_el.iloc[0]['latitude']\n",
    "        data.loc[i, 'longitude'] = cur_el.iloc[0]['longitude']"
   ]
  },
  {
   "cell_type": "code",
   "execution_count": 28,
   "metadata": {
    "colab": {
     "base_uri": "https://localhost:8080/",
     "height": 517
    },
    "id": "vTNM00rraud-",
    "outputId": "ef45736e-15b2-48e3-cd6e-4d6cd14b0896"
   },
   "outputs": [
    {
     "data": {
      "text/html": [
       "<div>\n",
       "<style scoped>\n",
       "    .dataframe tbody tr th:only-of-type {\n",
       "        vertical-align: middle;\n",
       "    }\n",
       "\n",
       "    .dataframe tbody tr th {\n",
       "        vertical-align: top;\n",
       "    }\n",
       "\n",
       "    .dataframe thead th {\n",
       "        text-align: right;\n",
       "    }\n",
       "</style>\n",
       "<table border=\"1\" class=\"dataframe\">\n",
       "  <thead>\n",
       "    <tr style=\"text-align: right;\">\n",
       "      <th></th>\n",
       "      <th>address</th>\n",
       "      <th>z_address</th>\n",
       "      <th>bathrooms</th>\n",
       "      <th>bedrooms</th>\n",
       "      <th>finishedsqft</th>\n",
       "      <th>lastsolddate</th>\n",
       "      <th>lastsoldprice</th>\n",
       "      <th>latitude</th>\n",
       "      <th>longitude</th>\n",
       "      <th>neighborhood</th>\n",
       "      <th>totalrooms</th>\n",
       "      <th>usecode</th>\n",
       "      <th>yearbuilt</th>\n",
       "      <th>zestimate</th>\n",
       "      <th>zipcode</th>\n",
       "    </tr>\n",
       "  </thead>\n",
       "  <tbody>\n",
       "    <tr>\n",
       "      <th>61</th>\n",
       "      <td>Address: 1015 Ashbury Street #2</td>\n",
       "      <td>1015 Ashbury St APT 2</td>\n",
       "      <td>2.0</td>\n",
       "      <td>2.0</td>\n",
       "      <td>1252.000000</td>\n",
       "      <td>02/05/2016</td>\n",
       "      <td>1350000.0</td>\n",
       "      <td>37.76432</td>\n",
       "      <td>-122.446342</td>\n",
       "      <td>Parnassus - Ashbury</td>\n",
       "      <td>4.0</td>\n",
       "      <td>Condominium</td>\n",
       "      <td>1913.0</td>\n",
       "      <td>1300995.0</td>\n",
       "      <td>94117.0</td>\n",
       "    </tr>\n",
       "    <tr>\n",
       "      <th>8551</th>\n",
       "      <td>Address: 1015 Ashbury Street #2</td>\n",
       "      <td>1015 Ashbury St APT 2</td>\n",
       "      <td>2.0</td>\n",
       "      <td>2.0</td>\n",
       "      <td>1252.000000</td>\n",
       "      <td>02/05/2016</td>\n",
       "      <td>1350000.0</td>\n",
       "      <td>37.76432</td>\n",
       "      <td>-122.446342</td>\n",
       "      <td>Parnassus - Ashbury</td>\n",
       "      <td>4.0</td>\n",
       "      <td>Condominium</td>\n",
       "      <td>1913.0</td>\n",
       "      <td>1319182.0</td>\n",
       "      <td>94117.0</td>\n",
       "    </tr>\n",
       "    <tr>\n",
       "      <th>9375</th>\n",
       "      <td>Address: 1015 Ashbury Street #2</td>\n",
       "      <td>1015 Ashbury St APT 2</td>\n",
       "      <td>2.0</td>\n",
       "      <td>2.0</td>\n",
       "      <td>1563.642786</td>\n",
       "      <td>02/05/2016</td>\n",
       "      <td>1350000.0</td>\n",
       "      <td>37.76432</td>\n",
       "      <td>-122.446342</td>\n",
       "      <td>Parnassus - Ashbury</td>\n",
       "      <td>4.0</td>\n",
       "      <td>Condominium</td>\n",
       "      <td>1913.0</td>\n",
       "      <td>1319182.0</td>\n",
       "      <td>94117.0</td>\n",
       "    </tr>\n",
       "    <tr>\n",
       "      <th>11314</th>\n",
       "      <td>Address: 1015 Ashbury Street #2</td>\n",
       "      <td>1015 Ashbury St APT 2</td>\n",
       "      <td>2.0</td>\n",
       "      <td>2.0</td>\n",
       "      <td>1252.000000</td>\n",
       "      <td>02/05/2016</td>\n",
       "      <td>1350000.0</td>\n",
       "      <td>37.76432</td>\n",
       "      <td>-122.446342</td>\n",
       "      <td>Parnassus - Ashbury</td>\n",
       "      <td>NaN</td>\n",
       "      <td>Condominium</td>\n",
       "      <td>1913.0</td>\n",
       "      <td>1320620.0</td>\n",
       "      <td>94117.0</td>\n",
       "    </tr>\n",
       "  </tbody>\n",
       "</table>\n",
       "</div>"
      ],
      "text/plain": [
       "                               address              z_address  bathrooms  \\\n",
       "61     Address: 1015 Ashbury Street #2  1015 Ashbury St APT 2        2.0   \n",
       "8551   Address: 1015 Ashbury Street #2  1015 Ashbury St APT 2        2.0   \n",
       "9375   Address: 1015 Ashbury Street #2  1015 Ashbury St APT 2        2.0   \n",
       "11314  Address: 1015 Ashbury Street #2  1015 Ashbury St APT 2        2.0   \n",
       "\n",
       "       bedrooms  finishedsqft lastsolddate  lastsoldprice  latitude  \\\n",
       "61          2.0   1252.000000   02/05/2016      1350000.0  37.76432   \n",
       "8551        2.0   1252.000000   02/05/2016      1350000.0  37.76432   \n",
       "9375        2.0   1563.642786   02/05/2016      1350000.0  37.76432   \n",
       "11314       2.0   1252.000000   02/05/2016      1350000.0  37.76432   \n",
       "\n",
       "        longitude         neighborhood  totalrooms      usecode  yearbuilt  \\\n",
       "61    -122.446342  Parnassus - Ashbury         4.0  Condominium     1913.0   \n",
       "8551  -122.446342  Parnassus - Ashbury         4.0  Condominium     1913.0   \n",
       "9375  -122.446342  Parnassus - Ashbury         4.0  Condominium     1913.0   \n",
       "11314 -122.446342  Parnassus - Ashbury         NaN  Condominium     1913.0   \n",
       "\n",
       "       zestimate  zipcode  \n",
       "61     1300995.0  94117.0  \n",
       "8551   1319182.0  94117.0  \n",
       "9375   1319182.0  94117.0  \n",
       "11314  1320620.0  94117.0  "
      ]
     },
     "execution_count": 28,
     "metadata": {},
     "output_type": "execute_result"
    }
   ],
   "source": [
    "data[data['z_address'] == '1015 Ashbury St APT 2']"
   ]
  },
  {
   "cell_type": "code",
   "execution_count": 29,
   "metadata": {
    "colab": {
     "base_uri": "https://localhost:8080/",
     "height": 1000
    },
    "id": "SwsURxNqawWB",
    "outputId": "acc7adab-de6c-40aa-b8d9-e5bffb61f463"
   },
   "outputs": [
    {
     "data": {
      "text/html": [
       "<div>\n",
       "<style scoped>\n",
       "    .dataframe tbody tr th:only-of-type {\n",
       "        vertical-align: middle;\n",
       "    }\n",
       "\n",
       "    .dataframe tbody tr th {\n",
       "        vertical-align: top;\n",
       "    }\n",
       "\n",
       "    .dataframe thead th {\n",
       "        text-align: right;\n",
       "    }\n",
       "</style>\n",
       "<table border=\"1\" class=\"dataframe\">\n",
       "  <thead>\n",
       "    <tr style=\"text-align: right;\">\n",
       "      <th></th>\n",
       "      <th>address</th>\n",
       "      <th>z_address</th>\n",
       "      <th>bathrooms</th>\n",
       "      <th>bedrooms</th>\n",
       "      <th>finishedsqft</th>\n",
       "      <th>lastsolddate</th>\n",
       "      <th>lastsoldprice</th>\n",
       "      <th>latitude</th>\n",
       "      <th>longitude</th>\n",
       "      <th>neighborhood</th>\n",
       "      <th>totalrooms</th>\n",
       "      <th>usecode</th>\n",
       "      <th>yearbuilt</th>\n",
       "      <th>zestimate</th>\n",
       "      <th>zipcode</th>\n",
       "    </tr>\n",
       "  </thead>\n",
       "  <tbody>\n",
       "    <tr>\n",
       "      <th>830</th>\n",
       "      <td>Address: 1566 27th Avenue</td>\n",
       "      <td>1566 27th Ave</td>\n",
       "      <td>3.5</td>\n",
       "      <td>3.0</td>\n",
       "      <td>2050.0</td>\n",
       "      <td>10/22/2015</td>\n",
       "      <td>1320000.0</td>\n",
       "      <td>NaN</td>\n",
       "      <td>NaN</td>\n",
       "      <td>Central Sunset</td>\n",
       "      <td>6.0</td>\n",
       "      <td>SingleFamily</td>\n",
       "      <td>1931.0</td>\n",
       "      <td>1371619.0</td>\n",
       "      <td>94122.0</td>\n",
       "    </tr>\n",
       "    <tr>\n",
       "      <th>2120</th>\n",
       "      <td>Address: 2033 Judah Street</td>\n",
       "      <td>2033-2035 Judah St</td>\n",
       "      <td>4.0</td>\n",
       "      <td>4.0</td>\n",
       "      <td>2500.0</td>\n",
       "      <td>05/22/2015</td>\n",
       "      <td>1480000.0</td>\n",
       "      <td>NaN</td>\n",
       "      <td>NaN</td>\n",
       "      <td>Central Sunset</td>\n",
       "      <td>12.0</td>\n",
       "      <td>MultiFamily2To4</td>\n",
       "      <td>1948.0</td>\n",
       "      <td>1533582.0</td>\n",
       "      <td>94122.0</td>\n",
       "    </tr>\n",
       "    <tr>\n",
       "      <th>2360</th>\n",
       "      <td>Address: 465 Myra Way</td>\n",
       "      <td>465 Myra Way</td>\n",
       "      <td>2.5</td>\n",
       "      <td>3.0</td>\n",
       "      <td>1800.0</td>\n",
       "      <td>04/24/2015</td>\n",
       "      <td>1260000.0</td>\n",
       "      <td>NaN</td>\n",
       "      <td>NaN</td>\n",
       "      <td>Miraloma Park</td>\n",
       "      <td>6.0</td>\n",
       "      <td>SingleFamily</td>\n",
       "      <td>1962.0</td>\n",
       "      <td>1290743.0</td>\n",
       "      <td>94127.0</td>\n",
       "    </tr>\n",
       "    <tr>\n",
       "      <th>5150</th>\n",
       "      <td>Address: 2342 Octavia Street</td>\n",
       "      <td>2342 Octavia St</td>\n",
       "      <td>3.5</td>\n",
       "      <td>4.0</td>\n",
       "      <td>2857.0</td>\n",
       "      <td>05/21/2014</td>\n",
       "      <td>3700000.0</td>\n",
       "      <td>NaN</td>\n",
       "      <td>NaN</td>\n",
       "      <td>Pacific Heights</td>\n",
       "      <td>7.0</td>\n",
       "      <td>SingleFamily</td>\n",
       "      <td>1939.0</td>\n",
       "      <td>4814430.0</td>\n",
       "      <td>94109.0</td>\n",
       "    </tr>\n",
       "    <tr>\n",
       "      <th>5835</th>\n",
       "      <td>Address: 3189 Cesar Chavez #2</td>\n",
       "      <td>3189 Cesar Chavez # 2</td>\n",
       "      <td>2.0</td>\n",
       "      <td>3.0</td>\n",
       "      <td>1807.0</td>\n",
       "      <td>03/25/2014</td>\n",
       "      <td>775000.0</td>\n",
       "      <td>NaN</td>\n",
       "      <td>NaN</td>\n",
       "      <td>Bernal Heights</td>\n",
       "      <td>6.0</td>\n",
       "      <td>Condominium</td>\n",
       "      <td>1981.0</td>\n",
       "      <td>2045775.0</td>\n",
       "      <td>94110.0</td>\n",
       "    </tr>\n",
       "    <tr>\n",
       "      <th>7987</th>\n",
       "      <td>Address: 331 Capistrano Avenue</td>\n",
       "      <td>331 Capistrano Ave</td>\n",
       "      <td>2.0</td>\n",
       "      <td>4.0</td>\n",
       "      <td>1668.0</td>\n",
       "      <td>08/09/2013</td>\n",
       "      <td>803000.0</td>\n",
       "      <td>NaN</td>\n",
       "      <td>NaN</td>\n",
       "      <td>Mission Terrace</td>\n",
       "      <td>9.0</td>\n",
       "      <td>SingleFamily</td>\n",
       "      <td>1925.0</td>\n",
       "      <td>1180548.0</td>\n",
       "      <td>94112.0</td>\n",
       "    </tr>\n",
       "    <tr>\n",
       "      <th>8651</th>\n",
       "      <td>Address: 3438 Taraval Street</td>\n",
       "      <td>3438 Taraval St</td>\n",
       "      <td>2.0</td>\n",
       "      <td>1.0</td>\n",
       "      <td>1062.0</td>\n",
       "      <td>04/23/2013</td>\n",
       "      <td>650000.0</td>\n",
       "      <td>NaN</td>\n",
       "      <td>NaN</td>\n",
       "      <td>Outer Parkside</td>\n",
       "      <td>5.0</td>\n",
       "      <td>SingleFamily</td>\n",
       "      <td>1941.0</td>\n",
       "      <td>887624.0</td>\n",
       "      <td>94116.0</td>\n",
       "    </tr>\n",
       "    <tr>\n",
       "      <th>9108</th>\n",
       "      <td>Address: 1 South Park Street #305</td>\n",
       "      <td>1 S Park St APT 305</td>\n",
       "      <td>2.0</td>\n",
       "      <td>2.0</td>\n",
       "      <td>1374.0</td>\n",
       "      <td>02/28/2013</td>\n",
       "      <td>1500000.0</td>\n",
       "      <td>NaN</td>\n",
       "      <td>NaN</td>\n",
       "      <td>South Beach</td>\n",
       "      <td>5.0</td>\n",
       "      <td>Condominium</td>\n",
       "      <td>2007.0</td>\n",
       "      <td>1859234.0</td>\n",
       "      <td>94107.0</td>\n",
       "    </tr>\n",
       "    <tr>\n",
       "      <th>9517</th>\n",
       "      <td>Address: 1021 Divisadero Street</td>\n",
       "      <td>1021-1023 Divisadero St</td>\n",
       "      <td>2.0</td>\n",
       "      <td>7.0</td>\n",
       "      <td>2950.0</td>\n",
       "      <td>12/28/2012</td>\n",
       "      <td>392500.0</td>\n",
       "      <td>NaN</td>\n",
       "      <td>NaN</td>\n",
       "      <td>North Panhandle</td>\n",
       "      <td>11.0</td>\n",
       "      <td>MultiFamily2To4</td>\n",
       "      <td>1900.0</td>\n",
       "      <td>2270942.0</td>\n",
       "      <td>94115.0</td>\n",
       "    </tr>\n",
       "    <tr>\n",
       "      <th>9879</th>\n",
       "      <td>Address: 970 Wisconsin Street #1</td>\n",
       "      <td>970 Wisconsin St # 1</td>\n",
       "      <td>2.0</td>\n",
       "      <td>3.0</td>\n",
       "      <td>825.0</td>\n",
       "      <td>11/21/2012</td>\n",
       "      <td>649000.0</td>\n",
       "      <td>NaN</td>\n",
       "      <td>NaN</td>\n",
       "      <td>Potrero Hill</td>\n",
       "      <td>5.0</td>\n",
       "      <td>Condominium</td>\n",
       "      <td>1992.0</td>\n",
       "      <td>890937.0</td>\n",
       "      <td>94107.0</td>\n",
       "    </tr>\n",
       "    <tr>\n",
       "      <th>10224</th>\n",
       "      <td>Address: 610 8th Avenue</td>\n",
       "      <td>610 8th Ave</td>\n",
       "      <td>3.5</td>\n",
       "      <td>3.0</td>\n",
       "      <td>2282.0</td>\n",
       "      <td>10/18/2012</td>\n",
       "      <td>1730000.0</td>\n",
       "      <td>NaN</td>\n",
       "      <td>NaN</td>\n",
       "      <td>Inner Richmond</td>\n",
       "      <td>8.0</td>\n",
       "      <td>SingleFamily</td>\n",
       "      <td>1912.0</td>\n",
       "      <td>2078799.0</td>\n",
       "      <td>94118.0</td>\n",
       "    </tr>\n",
       "    <tr>\n",
       "      <th>10710</th>\n",
       "      <td>Address: 11 High Street #202</td>\n",
       "      <td>11 High St APT 202</td>\n",
       "      <td>2.0</td>\n",
       "      <td>2.0</td>\n",
       "      <td>1178.0</td>\n",
       "      <td>08/29/2012</td>\n",
       "      <td>740000.0</td>\n",
       "      <td>NaN</td>\n",
       "      <td>NaN</td>\n",
       "      <td>Noe Valley</td>\n",
       "      <td>5.0</td>\n",
       "      <td>Condominium</td>\n",
       "      <td>1980.0</td>\n",
       "      <td>1226801.0</td>\n",
       "      <td>94114.0</td>\n",
       "    </tr>\n",
       "    <tr>\n",
       "      <th>10910</th>\n",
       "      <td>Address: 1410 15th Street</td>\n",
       "      <td>1410 15th St</td>\n",
       "      <td>2.0</td>\n",
       "      <td>3.0</td>\n",
       "      <td>1490.0</td>\n",
       "      <td>08/10/2012</td>\n",
       "      <td>800000.0</td>\n",
       "      <td>NaN</td>\n",
       "      <td>NaN</td>\n",
       "      <td>Mission</td>\n",
       "      <td>7.0</td>\n",
       "      <td>Condominium</td>\n",
       "      <td>1900.0</td>\n",
       "      <td>1619327.0</td>\n",
       "      <td>94103.0</td>\n",
       "    </tr>\n",
       "  </tbody>\n",
       "</table>\n",
       "</div>"
      ],
      "text/plain": [
       "                                 address                z_address  bathrooms  \\\n",
       "830            Address: 1566 27th Avenue            1566 27th Ave        3.5   \n",
       "2120          Address: 2033 Judah Street       2033-2035 Judah St        4.0   \n",
       "2360               Address: 465 Myra Way             465 Myra Way        2.5   \n",
       "5150        Address: 2342 Octavia Street          2342 Octavia St        3.5   \n",
       "5835       Address: 3189 Cesar Chavez #2    3189 Cesar Chavez # 2        2.0   \n",
       "7987      Address: 331 Capistrano Avenue       331 Capistrano Ave        2.0   \n",
       "8651        Address: 3438 Taraval Street          3438 Taraval St        2.0   \n",
       "9108   Address: 1 South Park Street #305      1 S Park St APT 305        2.0   \n",
       "9517     Address: 1021 Divisadero Street  1021-1023 Divisadero St        2.0   \n",
       "9879    Address: 970 Wisconsin Street #1     970 Wisconsin St # 1        2.0   \n",
       "10224            Address: 610 8th Avenue              610 8th Ave        3.5   \n",
       "10710       Address: 11 High Street #202       11 High St APT 202        2.0   \n",
       "10910          Address: 1410 15th Street             1410 15th St        2.0   \n",
       "\n",
       "       bedrooms  finishedsqft lastsolddate  lastsoldprice  latitude  \\\n",
       "830         3.0        2050.0   10/22/2015      1320000.0       NaN   \n",
       "2120        4.0        2500.0   05/22/2015      1480000.0       NaN   \n",
       "2360        3.0        1800.0   04/24/2015      1260000.0       NaN   \n",
       "5150        4.0        2857.0   05/21/2014      3700000.0       NaN   \n",
       "5835        3.0        1807.0   03/25/2014       775000.0       NaN   \n",
       "7987        4.0        1668.0   08/09/2013       803000.0       NaN   \n",
       "8651        1.0        1062.0   04/23/2013       650000.0       NaN   \n",
       "9108        2.0        1374.0   02/28/2013      1500000.0       NaN   \n",
       "9517        7.0        2950.0   12/28/2012       392500.0       NaN   \n",
       "9879        3.0         825.0   11/21/2012       649000.0       NaN   \n",
       "10224       3.0        2282.0   10/18/2012      1730000.0       NaN   \n",
       "10710       2.0        1178.0   08/29/2012       740000.0       NaN   \n",
       "10910       3.0        1490.0   08/10/2012       800000.0       NaN   \n",
       "\n",
       "       longitude     neighborhood  totalrooms          usecode  yearbuilt  \\\n",
       "830          NaN   Central Sunset         6.0     SingleFamily     1931.0   \n",
       "2120         NaN   Central Sunset        12.0  MultiFamily2To4     1948.0   \n",
       "2360         NaN    Miraloma Park         6.0     SingleFamily     1962.0   \n",
       "5150         NaN  Pacific Heights         7.0     SingleFamily     1939.0   \n",
       "5835         NaN   Bernal Heights         6.0      Condominium     1981.0   \n",
       "7987         NaN  Mission Terrace         9.0     SingleFamily     1925.0   \n",
       "8651         NaN   Outer Parkside         5.0     SingleFamily     1941.0   \n",
       "9108         NaN      South Beach         5.0      Condominium     2007.0   \n",
       "9517         NaN  North Panhandle        11.0  MultiFamily2To4     1900.0   \n",
       "9879         NaN     Potrero Hill         5.0      Condominium     1992.0   \n",
       "10224        NaN   Inner Richmond         8.0     SingleFamily     1912.0   \n",
       "10710        NaN       Noe Valley         5.0      Condominium     1980.0   \n",
       "10910        NaN          Mission         7.0      Condominium     1900.0   \n",
       "\n",
       "       zestimate  zipcode  \n",
       "830    1371619.0  94122.0  \n",
       "2120   1533582.0  94122.0  \n",
       "2360   1290743.0  94127.0  \n",
       "5150   4814430.0  94109.0  \n",
       "5835   2045775.0  94110.0  \n",
       "7987   1180548.0  94112.0  \n",
       "8651    887624.0  94116.0  \n",
       "9108   1859234.0  94107.0  \n",
       "9517   2270942.0  94115.0  \n",
       "9879    890937.0  94107.0  \n",
       "10224  2078799.0  94118.0  \n",
       "10710  1226801.0  94114.0  \n",
       "10910  1619327.0  94103.0  "
      ]
     },
     "execution_count": 29,
     "metadata": {},
     "output_type": "execute_result"
    }
   ],
   "source": [
    "data[data['latitude'].isna()]"
   ]
  },
  {
   "cell_type": "markdown",
   "metadata": {
    "id": "0miJHk2AhjA5"
   },
   "source": [
    "Для других объектов заполним пропущенные значения медианой по принадлежности району. Для этого получим уникальные сочетания почтовых индексов и районов, и выведем для этих сочетаний медианные значения широты и долготы."
   ]
  },
  {
   "cell_type": "code",
   "execution_count": 30,
   "metadata": {
    "colab": {
     "base_uri": "https://localhost:8080/",
     "height": 424
    },
    "id": "eWYwV-A1hjA5",
    "outputId": "15ae95ed-cccf-4b09-9b23-467b0cdad231"
   },
   "outputs": [
    {
     "data": {
      "text/html": [
       "<div>\n",
       "<style scoped>\n",
       "    .dataframe tbody tr th:only-of-type {\n",
       "        vertical-align: middle;\n",
       "    }\n",
       "\n",
       "    .dataframe tbody tr th {\n",
       "        vertical-align: top;\n",
       "    }\n",
       "\n",
       "    .dataframe thead th {\n",
       "        text-align: right;\n",
       "    }\n",
       "</style>\n",
       "<table border=\"1\" class=\"dataframe\">\n",
       "  <thead>\n",
       "    <tr style=\"text-align: right;\">\n",
       "      <th></th>\n",
       "      <th>zipcode</th>\n",
       "      <th>neighborhood</th>\n",
       "      <th>latitude</th>\n",
       "      <th>longitude</th>\n",
       "    </tr>\n",
       "  </thead>\n",
       "  <tbody>\n",
       "    <tr>\n",
       "      <th>0</th>\n",
       "      <td>94102.0</td>\n",
       "      <td>Downtown</td>\n",
       "      <td>37.786190</td>\n",
       "      <td>-122.407630</td>\n",
       "    </tr>\n",
       "    <tr>\n",
       "      <th>1</th>\n",
       "      <td>94102.0</td>\n",
       "      <td>Hayes Valley</td>\n",
       "      <td>37.772243</td>\n",
       "      <td>-122.426551</td>\n",
       "    </tr>\n",
       "    <tr>\n",
       "      <th>2</th>\n",
       "      <td>94102.0</td>\n",
       "      <td>Van Ness - Civic Center</td>\n",
       "      <td>37.781386</td>\n",
       "      <td>-122.421406</td>\n",
       "    </tr>\n",
       "    <tr>\n",
       "      <th>3</th>\n",
       "      <td>94103.0</td>\n",
       "      <td>Mission</td>\n",
       "      <td>37.766736</td>\n",
       "      <td>-122.421846</td>\n",
       "    </tr>\n",
       "    <tr>\n",
       "      <th>4</th>\n",
       "      <td>94103.0</td>\n",
       "      <td>South of Market</td>\n",
       "      <td>37.775993</td>\n",
       "      <td>-122.411809</td>\n",
       "    </tr>\n",
       "    <tr>\n",
       "      <th>...</th>\n",
       "      <td>...</td>\n",
       "      <td>...</td>\n",
       "      <td>...</td>\n",
       "      <td>...</td>\n",
       "    </tr>\n",
       "    <tr>\n",
       "      <th>124</th>\n",
       "      <td>94134.0</td>\n",
       "      <td>Excelsior</td>\n",
       "      <td>37.728280</td>\n",
       "      <td>-122.423571</td>\n",
       "    </tr>\n",
       "    <tr>\n",
       "      <th>125</th>\n",
       "      <td>94134.0</td>\n",
       "      <td>Little Hollywood</td>\n",
       "      <td>37.712230</td>\n",
       "      <td>-122.398930</td>\n",
       "    </tr>\n",
       "    <tr>\n",
       "      <th>126</th>\n",
       "      <td>94134.0</td>\n",
       "      <td>Portola</td>\n",
       "      <td>37.726208</td>\n",
       "      <td>-122.411113</td>\n",
       "    </tr>\n",
       "    <tr>\n",
       "      <th>127</th>\n",
       "      <td>94134.0</td>\n",
       "      <td>Visitacion Valley</td>\n",
       "      <td>37.714392</td>\n",
       "      <td>-122.405860</td>\n",
       "    </tr>\n",
       "    <tr>\n",
       "      <th>128</th>\n",
       "      <td>94158.0</td>\n",
       "      <td>South of Market</td>\n",
       "      <td>37.773929</td>\n",
       "      <td>-122.396240</td>\n",
       "    </tr>\n",
       "  </tbody>\n",
       "</table>\n",
       "<p>129 rows × 4 columns</p>\n",
       "</div>"
      ],
      "text/plain": [
       "     zipcode             neighborhood   latitude   longitude\n",
       "0    94102.0                 Downtown  37.786190 -122.407630\n",
       "1    94102.0             Hayes Valley  37.772243 -122.426551\n",
       "2    94102.0  Van Ness - Civic Center  37.781386 -122.421406\n",
       "3    94103.0                  Mission  37.766736 -122.421846\n",
       "4    94103.0          South of Market  37.775993 -122.411809\n",
       "..       ...                      ...        ...         ...\n",
       "124  94134.0                Excelsior  37.728280 -122.423571\n",
       "125  94134.0         Little Hollywood  37.712230 -122.398930\n",
       "126  94134.0                  Portola  37.726208 -122.411113\n",
       "127  94134.0        Visitacion Valley  37.714392 -122.405860\n",
       "128  94158.0          South of Market  37.773929 -122.396240\n",
       "\n",
       "[129 rows x 4 columns]"
      ]
     },
     "execution_count": 30,
     "metadata": {},
     "output_type": "execute_result"
    }
   ],
   "source": [
    "data_long_lat = data.groupby(['zipcode', 'neighborhood']).agg(\n",
    "    {'latitude':'median',\n",
    "     'longitude':'median'}\n",
    ").reset_index()\n",
    "data_long_lat"
   ]
  },
  {
   "cell_type": "code",
   "execution_count": 31,
   "metadata": {
    "id": "WelE63B2hjA5"
   },
   "outputs": [],
   "source": [
    "for i, el in data[data['latitude'].isna()].iterrows():\n",
    "    data.loc[i, 'latitude'] = data_long_lat[\n",
    "        (data_long_lat['zipcode'] == el['zipcode']) \n",
    "        & (data_long_lat['neighborhood'] == el['neighborhood'])\n",
    "    ]['latitude'].values[0]\n",
    "\n",
    "    data.loc[i, 'longitude'] = data_long_lat[\n",
    "        (data_long_lat['zipcode'] == el['zipcode'])\n",
    "         & (data_long_lat['neighborhood'] == el['neighborhood'])\n",
    "    ]['longitude'].values[0]"
   ]
  },
  {
   "cell_type": "code",
   "execution_count": 32,
   "metadata": {
    "colab": {
     "base_uri": "https://localhost:8080/"
    },
    "id": "ZQpxEHiHhjA6",
    "outputId": "b4bbe974-3fd5-4b3e-a364-65f27babb90f"
   },
   "outputs": [
    {
     "data": {
      "text/plain": [
       "address           0\n",
       "z_address         0\n",
       "bathrooms         0\n",
       "bedrooms          0\n",
       "finishedsqft      0\n",
       "lastsolddate      0\n",
       "lastsoldprice     0\n",
       "latitude          0\n",
       "longitude         0\n",
       "neighborhood      0\n",
       "totalrooms       49\n",
       "usecode          40\n",
       "yearbuilt         0\n",
       "zestimate         0\n",
       "zipcode           0\n",
       "dtype: int64"
      ]
     },
     "execution_count": 32,
     "metadata": {},
     "output_type": "execute_result"
    }
   ],
   "source": [
    "data.isna().sum()"
   ]
  },
  {
   "cell_type": "markdown",
   "metadata": {
    "id": "jGY6aCUAhjA5"
   },
   "source": [
    "Видим, что широту и долготу заполнили. Посмотрим на промежуточный скор."
   ]
  },
  {
   "cell_type": "markdown",
   "metadata": {
    "id": "3Cy8GEIshjA6"
   },
   "source": [
    "В результате этих манипуляций подняли скор на 2%."
   ]
  },
  {
   "cell_type": "code",
   "execution_count": 33,
   "metadata": {
    "colab": {
     "base_uri": "https://localhost:8080/"
    },
    "id": "BRvwe1VvhjA6",
    "outputId": "d594a473-5cb9-4da9-bcf1-c72eaddfb488"
   },
   "outputs": [
    {
     "data": {
      "text/plain": [
       "0.8406653093449896"
      ]
     },
     "execution_count": 33,
     "metadata": {},
     "output_type": "execute_result"
    }
   ],
   "source": [
    "get_score(data.dropna()[cols], data.dropna()[target])"
   ]
  },
  {
   "cell_type": "markdown",
   "metadata": {
    "id": "KFpciWOjcKn_"
   },
   "source": [
    "#### totalrooms"
   ]
  },
  {
   "cell_type": "markdown",
   "metadata": {
    "id": "47HEQzHAhjA6"
   },
   "source": [
    "Теперь посмотрим признак \"totalrooms\". Для начала надо убрать выбросы. Строим для этого боксплот."
   ]
  },
  {
   "cell_type": "code",
   "execution_count": 34,
   "metadata": {
    "colab": {
     "base_uri": "https://localhost:8080/",
     "height": 279
    },
    "id": "IB22_wddhjA6",
    "outputId": "f4c28613-3140-416a-a945-db8a732e8be0",
    "scrolled": false
   },
   "outputs": [
    {
     "data": {
      "image/png": "[encoded data removed]",
      "text/plain": [
       "<Figure size 640x480 with 1 Axes>"
      ]
     },
     "metadata": {},
     "output_type": "display_data"
    }
   ],
   "source": [
    "get_boxplot(data, ['totalrooms'])"
   ]
  },
  {
   "cell_type": "markdown",
   "metadata": {
    "id": "SzD7MzRWhjA6"
   },
   "source": [
    "Видим 2 явных выброса. Имеется объект с 94 комнатами на 805 кв. футов и 1264 комнатами на 1264 кв. фута. Удаляем их, скорее всего это ошибка ручного ввода."
   ]
  },
  {
   "cell_type": "code",
   "execution_count": 35,
   "metadata": {
    "colab": {
     "base_uri": "https://localhost:8080/",
     "height": 298
    },
    "id": "Cu-v5JYLhjA7",
    "outputId": "a9f4a5bf-71a6-489b-8ed9-8949476b51f2",
    "scrolled": true
   },
   "outputs": [
    {
     "data": {
      "text/html": [
       "<div>\n",
       "<style scoped>\n",
       "    .dataframe tbody tr th:only-of-type {\n",
       "        vertical-align: middle;\n",
       "    }\n",
       "\n",
       "    .dataframe tbody tr th {\n",
       "        vertical-align: top;\n",
       "    }\n",
       "\n",
       "    .dataframe thead th {\n",
       "        text-align: right;\n",
       "    }\n",
       "</style>\n",
       "<table border=\"1\" class=\"dataframe\">\n",
       "  <thead>\n",
       "    <tr style=\"text-align: right;\">\n",
       "      <th></th>\n",
       "      <th>address</th>\n",
       "      <th>z_address</th>\n",
       "      <th>bathrooms</th>\n",
       "      <th>bedrooms</th>\n",
       "      <th>finishedsqft</th>\n",
       "      <th>lastsolddate</th>\n",
       "      <th>lastsoldprice</th>\n",
       "      <th>latitude</th>\n",
       "      <th>longitude</th>\n",
       "      <th>neighborhood</th>\n",
       "      <th>totalrooms</th>\n",
       "      <th>usecode</th>\n",
       "      <th>yearbuilt</th>\n",
       "      <th>zestimate</th>\n",
       "      <th>zipcode</th>\n",
       "    </tr>\n",
       "  </thead>\n",
       "  <tbody>\n",
       "    <tr>\n",
       "      <th>8300</th>\n",
       "      <td>Address: 5264 3rd Street #304</td>\n",
       "      <td>5264 3rd St APT 304</td>\n",
       "      <td>2.0</td>\n",
       "      <td>2.0</td>\n",
       "      <td>805.0</td>\n",
       "      <td>07/18/2013</td>\n",
       "      <td>325000.0</td>\n",
       "      <td>37.729825</td>\n",
       "      <td>-122.392825</td>\n",
       "      <td>Bayview</td>\n",
       "      <td>94.0</td>\n",
       "      <td>Condominium</td>\n",
       "      <td>1993.0</td>\n",
       "      <td>502285.0</td>\n",
       "      <td>94124.0</td>\n",
       "    </tr>\n",
       "    <tr>\n",
       "      <th>8967</th>\n",
       "      <td>Address: 2829 California Street #3C</td>\n",
       "      <td>2829 California St APT 3C</td>\n",
       "      <td>2.0</td>\n",
       "      <td>2.0</td>\n",
       "      <td>1264.0</td>\n",
       "      <td>03/14/2013</td>\n",
       "      <td>1375000.0</td>\n",
       "      <td>37.787654</td>\n",
       "      <td>-122.440902</td>\n",
       "      <td>Lower Pacific Heights</td>\n",
       "      <td>1264.0</td>\n",
       "      <td>Condominium</td>\n",
       "      <td>2012.0</td>\n",
       "      <td>1591608.0</td>\n",
       "      <td>94115.0</td>\n",
       "    </tr>\n",
       "  </tbody>\n",
       "</table>\n",
       "</div>"
      ],
      "text/plain": [
       "                                  address                  z_address  \\\n",
       "8300        Address: 5264 3rd Street #304        5264 3rd St APT 304   \n",
       "8967  Address: 2829 California Street #3C  2829 California St APT 3C   \n",
       "\n",
       "      bathrooms  bedrooms  finishedsqft lastsolddate  lastsoldprice  \\\n",
       "8300        2.0       2.0         805.0   07/18/2013       325000.0   \n",
       "8967        2.0       2.0        1264.0   03/14/2013      1375000.0   \n",
       "\n",
       "       latitude   longitude           neighborhood  totalrooms      usecode  \\\n",
       "8300  37.729825 -122.392825                Bayview        94.0  Condominium   \n",
       "8967  37.787654 -122.440902  Lower Pacific Heights      1264.0  Condominium   \n",
       "\n",
       "      yearbuilt  zestimate  zipcode  \n",
       "8300     1993.0   502285.0  94124.0  \n",
       "8967     2012.0  1591608.0  94115.0  "
      ]
     },
     "execution_count": 35,
     "metadata": {},
     "output_type": "execute_result"
    }
   ],
   "source": [
    "data[data['totalrooms'] > 75]"
   ]
  },
  {
   "cell_type": "code",
   "execution_count": 36,
   "metadata": {
    "id": "k689s1__hjA7"
   },
   "outputs": [],
   "source": [
    "data = data[(data['totalrooms'] < 75) | (data['totalrooms'].isna())]"
   ]
  },
  {
   "cell_type": "markdown",
   "metadata": {
    "id": "XU2GyPuEhjA7"
   },
   "source": [
    "Теперь заполним пропущенные значения с помощью метода линейной регрессии."
   ]
  },
  {
   "cell_type": "code",
   "execution_count": 37,
   "metadata": {
    "colab": {
     "base_uri": "https://localhost:8080/",
     "height": 565
    },
    "id": "XfXf3-YqhjA7",
    "outputId": "d473ffd7-3133-4a51-be01-ef3c3159d91a"
   },
   "outputs": [
    {
     "data": {
      "text/html": [
       "<div>\n",
       "<style scoped>\n",
       "    .dataframe tbody tr th:only-of-type {\n",
       "        vertical-align: middle;\n",
       "    }\n",
       "\n",
       "    .dataframe tbody tr th {\n",
       "        vertical-align: top;\n",
       "    }\n",
       "\n",
       "    .dataframe thead th {\n",
       "        text-align: right;\n",
       "    }\n",
       "</style>\n",
       "<table border=\"1\" class=\"dataframe\">\n",
       "  <thead>\n",
       "    <tr style=\"text-align: right;\">\n",
       "      <th></th>\n",
       "      <th>address</th>\n",
       "      <th>z_address</th>\n",
       "      <th>bathrooms</th>\n",
       "      <th>bedrooms</th>\n",
       "      <th>finishedsqft</th>\n",
       "      <th>lastsolddate</th>\n",
       "      <th>lastsoldprice</th>\n",
       "      <th>latitude</th>\n",
       "      <th>longitude</th>\n",
       "      <th>neighborhood</th>\n",
       "      <th>totalrooms</th>\n",
       "      <th>usecode</th>\n",
       "      <th>yearbuilt</th>\n",
       "      <th>zestimate</th>\n",
       "      <th>zipcode</th>\n",
       "    </tr>\n",
       "  </thead>\n",
       "  <tbody>\n",
       "    <tr>\n",
       "      <th>0</th>\n",
       "      <td>Address: 1160 Mission Street #2007</td>\n",
       "      <td>1160 Mission St UNIT 2007</td>\n",
       "      <td>2.0</td>\n",
       "      <td>2.0</td>\n",
       "      <td>1043.0</td>\n",
       "      <td>02/17/2016</td>\n",
       "      <td>1300000.0</td>\n",
       "      <td>37.778705</td>\n",
       "      <td>-122.412635</td>\n",
       "      <td>South of Market</td>\n",
       "      <td>4.0</td>\n",
       "      <td>Condominium</td>\n",
       "      <td>2007.0</td>\n",
       "      <td>1167508.0</td>\n",
       "      <td>94103.0</td>\n",
       "    </tr>\n",
       "    <tr>\n",
       "      <th>1</th>\n",
       "      <td>Address: 260 King Street #475</td>\n",
       "      <td>260 King St UNIT 475</td>\n",
       "      <td>1.0</td>\n",
       "      <td>1.0</td>\n",
       "      <td>903.0</td>\n",
       "      <td>02/17/2016</td>\n",
       "      <td>750000.0</td>\n",
       "      <td>37.777641</td>\n",
       "      <td>-122.393417</td>\n",
       "      <td>South of Market</td>\n",
       "      <td>3.0</td>\n",
       "      <td>Condominium</td>\n",
       "      <td>2004.0</td>\n",
       "      <td>823719.0</td>\n",
       "      <td>94107.0</td>\n",
       "    </tr>\n",
       "    <tr>\n",
       "      <th>2</th>\n",
       "      <td>Address: 560 Missouri Street #B</td>\n",
       "      <td>560 Missouri St # B</td>\n",
       "      <td>4.0</td>\n",
       "      <td>3.0</td>\n",
       "      <td>1425.0</td>\n",
       "      <td>02/17/2016</td>\n",
       "      <td>1495000.0</td>\n",
       "      <td>37.759198</td>\n",
       "      <td>-122.396516</td>\n",
       "      <td>Potrero Hill</td>\n",
       "      <td>6.0</td>\n",
       "      <td>Condominium</td>\n",
       "      <td>2003.0</td>\n",
       "      <td>1708594.0</td>\n",
       "      <td>94107.0</td>\n",
       "    </tr>\n",
       "    <tr>\n",
       "      <th>3</th>\n",
       "      <td>Address: 350 Missouri Street</td>\n",
       "      <td>350 Missouri St</td>\n",
       "      <td>3.0</td>\n",
       "      <td>3.0</td>\n",
       "      <td>2231.0</td>\n",
       "      <td>02/17/2016</td>\n",
       "      <td>2700000.0</td>\n",
       "      <td>37.761886</td>\n",
       "      <td>-122.396769</td>\n",
       "      <td>Potrero Hill</td>\n",
       "      <td>10.0</td>\n",
       "      <td>SingleFamily</td>\n",
       "      <td>1927.0</td>\n",
       "      <td>2411236.0</td>\n",
       "      <td>94107.0</td>\n",
       "    </tr>\n",
       "    <tr>\n",
       "      <th>4</th>\n",
       "      <td>Address: 3658 Folsom Street</td>\n",
       "      <td>3658 Folsom St</td>\n",
       "      <td>3.0</td>\n",
       "      <td>3.0</td>\n",
       "      <td>1300.0</td>\n",
       "      <td>02/17/2016</td>\n",
       "      <td>1530000.0</td>\n",
       "      <td>37.740795</td>\n",
       "      <td>-122.413453</td>\n",
       "      <td>Bernal Heights</td>\n",
       "      <td>4.0</td>\n",
       "      <td>SingleFamily</td>\n",
       "      <td>1900.0</td>\n",
       "      <td>1918539.0</td>\n",
       "      <td>94110.0</td>\n",
       "    </tr>\n",
       "  </tbody>\n",
       "</table>\n",
       "</div>"
      ],
      "text/plain": [
       "                              address                  z_address  bathrooms  \\\n",
       "0  Address: 1160 Mission Street #2007  1160 Mission St UNIT 2007        2.0   \n",
       "1       Address: 260 King Street #475       260 King St UNIT 475        1.0   \n",
       "2     Address: 560 Missouri Street #B        560 Missouri St # B        4.0   \n",
       "3        Address: 350 Missouri Street            350 Missouri St        3.0   \n",
       "4         Address: 3658 Folsom Street             3658 Folsom St        3.0   \n",
       "\n",
       "   bedrooms  finishedsqft lastsolddate  lastsoldprice   latitude   longitude  \\\n",
       "0       2.0        1043.0   02/17/2016      1300000.0  37.778705 -122.412635   \n",
       "1       1.0         903.0   02/17/2016       750000.0  37.777641 -122.393417   \n",
       "2       3.0        1425.0   02/17/2016      1495000.0  37.759198 -122.396516   \n",
       "3       3.0        2231.0   02/17/2016      2700000.0  37.761886 -122.396769   \n",
       "4       3.0        1300.0   02/17/2016      1530000.0  37.740795 -122.413453   \n",
       "\n",
       "      neighborhood  totalrooms       usecode  yearbuilt  zestimate  zipcode  \n",
       "0  South of Market         4.0   Condominium     2007.0  1167508.0  94103.0  \n",
       "1  South of Market         3.0   Condominium     2004.0   823719.0  94107.0  \n",
       "2     Potrero Hill         6.0   Condominium     2003.0  1708594.0  94107.0  \n",
       "3     Potrero Hill        10.0  SingleFamily     1927.0  2411236.0  94107.0  \n",
       "4   Bernal Heights         4.0  SingleFamily     1900.0  1918539.0  94110.0  "
      ]
     },
     "execution_count": 37,
     "metadata": {},
     "output_type": "execute_result"
    }
   ],
   "source": [
    "get_value(X=data,\n",
    "          column='totalrooms',\n",
    "          mode='linreg',\n",
    "          columns_for_reg=['bathrooms', 'bedrooms', 'lastsoldprice', 'latitude', 'longitude', 'yearbuilt', 'finishedsqft'])"
   ]
  },
  {
   "cell_type": "markdown",
   "metadata": {
    "id": "ZFRh_UDNcNXG"
   },
   "source": [
    "#### usecode"
   ]
  },
  {
   "cell_type": "markdown",
   "metadata": {
    "id": "Jzoydi5HhjA7"
   },
   "source": [
    "Осталось заполнить usecode. Имеем 40 пропусков."
   ]
  },
  {
   "cell_type": "code",
   "execution_count": 38,
   "metadata": {
    "colab": {
     "base_uri": "https://localhost:8080/"
    },
    "id": "9SHR0MTvhjA7",
    "outputId": "048387aa-05ff-453f-fc06-148d0581b7af"
   },
   "outputs": [
    {
     "data": {
      "text/plain": [
       "SingleFamily        5785\n",
       "Condominium         4779\n",
       "MultiFamily2To4      484\n",
       "Duplex               146\n",
       "Townhouse             66\n",
       "NaN                   40\n",
       "Miscellaneous         17\n",
       "Apartment              3\n",
       "Cooperative            3\n",
       "Mobile                 2\n",
       "MultiFamily5Plus       2\n",
       "Name: usecode, dtype: int64"
      ]
     },
     "execution_count": 38,
     "metadata": {},
     "output_type": "execute_result"
    }
   ],
   "source": [
    "data['usecode'].value_counts(dropna=False)"
   ]
  },
  {
   "cell_type": "markdown",
   "metadata": {
    "id": "E6KPz6hZhjA8"
   },
   "source": [
    "Разметим наши данные колонки 'usecode' с помощью LabelEncoder, а затем обучим логистическую регрессию на них и получим предсказанные значения."
   ]
  },
  {
   "cell_type": "code",
   "execution_count": 39,
   "metadata": {
    "id": "A0Pkd6kmhjA8"
   },
   "outputs": [],
   "source": [
    "from sklearn.linear_model import LogisticRegression\n",
    "from sklearn.preprocessing import LabelEncoder"
   ]
  },
  {
   "cell_type": "code",
   "execution_count": 40,
   "metadata": {
    "colab": {
     "base_uri": "https://localhost:8080/",
     "height": 398
    },
    "id": "jgHWmji5hjA8",
    "outputId": "e8c19c54-2535-487b-e007-9a74bbe290af"
   },
   "outputs": [
    {
     "data": {
      "text/html": [
       "<div>\n",
       "<style scoped>\n",
       "    .dataframe tbody tr th:only-of-type {\n",
       "        vertical-align: middle;\n",
       "    }\n",
       "\n",
       "    .dataframe tbody tr th {\n",
       "        vertical-align: top;\n",
       "    }\n",
       "\n",
       "    .dataframe thead th {\n",
       "        text-align: right;\n",
       "    }\n",
       "</style>\n",
       "<table border=\"1\" class=\"dataframe\">\n",
       "  <thead>\n",
       "    <tr style=\"text-align: right;\">\n",
       "      <th></th>\n",
       "      <th>address</th>\n",
       "      <th>z_address</th>\n",
       "      <th>bathrooms</th>\n",
       "      <th>bedrooms</th>\n",
       "      <th>finishedsqft</th>\n",
       "      <th>lastsolddate</th>\n",
       "      <th>lastsoldprice</th>\n",
       "      <th>latitude</th>\n",
       "      <th>longitude</th>\n",
       "      <th>neighborhood</th>\n",
       "      <th>totalrooms</th>\n",
       "      <th>usecode</th>\n",
       "      <th>yearbuilt</th>\n",
       "      <th>zestimate</th>\n",
       "      <th>zipcode</th>\n",
       "    </tr>\n",
       "  </thead>\n",
       "  <tbody>\n",
       "    <tr>\n",
       "      <th>0</th>\n",
       "      <td>Address: 1160 Mission Street #2007</td>\n",
       "      <td>1160 Mission St UNIT 2007</td>\n",
       "      <td>2.0</td>\n",
       "      <td>2.0</td>\n",
       "      <td>1043.0</td>\n",
       "      <td>02/17/2016</td>\n",
       "      <td>1300000.0</td>\n",
       "      <td>37.778705</td>\n",
       "      <td>-122.412635</td>\n",
       "      <td>South of Market</td>\n",
       "      <td>4.0</td>\n",
       "      <td>Condominium</td>\n",
       "      <td>2007.0</td>\n",
       "      <td>1167508.0</td>\n",
       "      <td>94103.0</td>\n",
       "    </tr>\n",
       "    <tr>\n",
       "      <th>1</th>\n",
       "      <td>Address: 260 King Street #475</td>\n",
       "      <td>260 King St UNIT 475</td>\n",
       "      <td>1.0</td>\n",
       "      <td>1.0</td>\n",
       "      <td>903.0</td>\n",
       "      <td>02/17/2016</td>\n",
       "      <td>750000.0</td>\n",
       "      <td>37.777641</td>\n",
       "      <td>-122.393417</td>\n",
       "      <td>South of Market</td>\n",
       "      <td>3.0</td>\n",
       "      <td>Condominium</td>\n",
       "      <td>2004.0</td>\n",
       "      <td>823719.0</td>\n",
       "      <td>94107.0</td>\n",
       "    </tr>\n",
       "    <tr>\n",
       "      <th>2</th>\n",
       "      <td>Address: 560 Missouri Street #B</td>\n",
       "      <td>560 Missouri St # B</td>\n",
       "      <td>4.0</td>\n",
       "      <td>3.0</td>\n",
       "      <td>1425.0</td>\n",
       "      <td>02/17/2016</td>\n",
       "      <td>1495000.0</td>\n",
       "      <td>37.759198</td>\n",
       "      <td>-122.396516</td>\n",
       "      <td>Potrero Hill</td>\n",
       "      <td>6.0</td>\n",
       "      <td>Condominium</td>\n",
       "      <td>2003.0</td>\n",
       "      <td>1708594.0</td>\n",
       "      <td>94107.0</td>\n",
       "    </tr>\n",
       "  </tbody>\n",
       "</table>\n",
       "</div>"
      ],
      "text/plain": [
       "                              address                  z_address  bathrooms  \\\n",
       "0  Address: 1160 Mission Street #2007  1160 Mission St UNIT 2007        2.0   \n",
       "1       Address: 260 King Street #475       260 King St UNIT 475        1.0   \n",
       "2     Address: 560 Missouri Street #B        560 Missouri St # B        4.0   \n",
       "\n",
       "   bedrooms  finishedsqft lastsolddate  lastsoldprice   latitude   longitude  \\\n",
       "0       2.0        1043.0   02/17/2016      1300000.0  37.778705 -122.412635   \n",
       "1       1.0         903.0   02/17/2016       750000.0  37.777641 -122.393417   \n",
       "2       3.0        1425.0   02/17/2016      1495000.0  37.759198 -122.396516   \n",
       "\n",
       "      neighborhood  totalrooms      usecode  yearbuilt  zestimate  zipcode  \n",
       "0  South of Market         4.0  Condominium     2007.0  1167508.0  94103.0  \n",
       "1  South of Market         3.0  Condominium     2004.0   823719.0  94107.0  \n",
       "2     Potrero Hill         6.0  Condominium     2003.0  1708594.0  94107.0  "
      ]
     },
     "execution_count": 40,
     "metadata": {},
     "output_type": "execute_result"
    }
   ],
   "source": [
    "X_tmp = data.dropna()\n",
    "X_tmp.head(3)"
   ]
  },
  {
   "cell_type": "code",
   "execution_count": 41,
   "metadata": {
    "colab": {
     "base_uri": "https://localhost:8080/"
    },
    "id": "vVIygw0ybESe",
    "outputId": "2c37dc74-5712-498e-ce3a-0f62d4df144f"
   },
   "outputs": [
    {
     "data": {
      "text/plain": [
       "address          0\n",
       "z_address        0\n",
       "bathrooms        0\n",
       "bedrooms         0\n",
       "finishedsqft     0\n",
       "lastsolddate     0\n",
       "lastsoldprice    0\n",
       "latitude         0\n",
       "longitude        0\n",
       "neighborhood     0\n",
       "totalrooms       0\n",
       "usecode          0\n",
       "yearbuilt        0\n",
       "zestimate        0\n",
       "zipcode          0\n",
       "dtype: int64"
      ]
     },
     "execution_count": 41,
     "metadata": {},
     "output_type": "execute_result"
    }
   ],
   "source": [
    "X_tmp.isna().sum()"
   ]
  },
  {
   "cell_type": "code",
   "execution_count": 42,
   "metadata": {
    "id": "1GFMUJKxhjA8"
   },
   "outputs": [],
   "source": [
    "le = LabelEncoder()\n",
    "X_tmp['usecode_target'] = le.fit_transform(X_tmp['usecode'])"
   ]
  },
  {
   "cell_type": "markdown",
   "metadata": {
    "id": "IBnUNmryhjA8"
   },
   "source": [
    "Обучаем логистическую регрессию."
   ]
  },
  {
   "cell_type": "code",
   "execution_count": 43,
   "metadata": {
    "colab": {
     "base_uri": "https://localhost:8080/"
    },
    "id": "7WS8UmqRhjA9",
    "outputId": "9966fc9d-5965-42c3-a238-d3c4c0bbe47d"
   },
   "outputs": [
    {
     "data": {
      "text/plain": [
       "LogisticRegression()"
      ]
     },
     "execution_count": 43,
     "metadata": {},
     "output_type": "execute_result"
    }
   ],
   "source": [
    "logreg = LogisticRegression()\n",
    "cols = ['bathrooms', 'bedrooms', 'finishedsqft', \n",
    "        'lastsoldprice', 'latitude', 'longitude',\n",
    "        'totalrooms', 'yearbuilt']\n",
    "logreg.fit(X_tmp[cols], X_tmp['usecode_target'])"
   ]
  },
  {
   "cell_type": "markdown",
   "metadata": {
    "id": "xW2zpbQ1hjA9"
   },
   "source": [
    "Делаем обратное преобразование LabelEncoder и получаем предсказанные данные."
   ]
  },
  {
   "cell_type": "code",
   "execution_count": 44,
   "metadata": {
    "colab": {
     "base_uri": "https://localhost:8080/"
    },
    "id": "dMf_eovabNRW",
    "outputId": "1dfc94b5-74ba-44f9-f9a0-ae625c9e6001"
   },
   "outputs": [
    {
     "data": {
      "text/plain": [
       "array([8, 8, 1, 1, 1, 8, 8, 1, 8, 8, 8, 8, 8, 1, 1, 1, 8, 8, 8, 8, 8, 1,\n",
       "       8, 8, 1, 8, 8, 8, 1, 1, 8, 8, 1, 1, 1, 1, 8, 8, 8, 8])"
      ]
     },
     "execution_count": 44,
     "metadata": {},
     "output_type": "execute_result"
    }
   ],
   "source": [
    "preds = logreg.predict(data[data['usecode'].isna()][cols])\n",
    "preds"
   ]
  },
  {
   "cell_type": "code",
   "execution_count": 45,
   "metadata": {
    "colab": {
     "base_uri": "https://localhost:8080/"
    },
    "id": "0oA3C5alhjA9",
    "outputId": "da3a8d6d-b8df-4cde-f1f6-e70aa48b9eab"
   },
   "outputs": [
    {
     "data": {
      "text/plain": [
       "array(['SingleFamily', 'SingleFamily', 'Condominium', 'Condominium',\n",
       "       'Condominium', 'SingleFamily', 'SingleFamily', 'Condominium',\n",
       "       'SingleFamily', 'SingleFamily', 'SingleFamily', 'SingleFamily',\n",
       "       'SingleFamily', 'Condominium', 'Condominium', 'Condominium',\n",
       "       'SingleFamily', 'SingleFamily', 'SingleFamily', 'SingleFamily',\n",
       "       'SingleFamily', 'Condominium', 'SingleFamily', 'SingleFamily',\n",
       "       'Condominium', 'SingleFamily', 'SingleFamily', 'SingleFamily',\n",
       "       'Condominium', 'Condominium', 'SingleFamily', 'SingleFamily',\n",
       "       'Condominium', 'Condominium', 'Condominium', 'Condominium',\n",
       "       'SingleFamily', 'SingleFamily', 'SingleFamily', 'SingleFamily'],\n",
       "      dtype=object)"
      ]
     },
     "execution_count": 45,
     "metadata": {},
     "output_type": "execute_result"
    }
   ],
   "source": [
    "preds_cat = le.inverse_transform(preds)\n",
    "preds_cat"
   ]
  },
  {
   "cell_type": "markdown",
   "metadata": {
    "id": "m5gZhkRuhjA9"
   },
   "source": [
    "Заполняем ими пропуски."
   ]
  },
  {
   "cell_type": "code",
   "execution_count": 46,
   "metadata": {
    "id": "tRMTS-WhhjA9"
   },
   "outputs": [],
   "source": [
    "data.loc[data[data['usecode'].isna()].index, 'usecode'] = preds_cat"
   ]
  },
  {
   "cell_type": "markdown",
   "metadata": {
    "id": "eY1dKi3DhjA9"
   },
   "source": [
    "В итоге, все пропуски во всех признаках заполнены, задача выполнена."
   ]
  },
  {
   "cell_type": "code",
   "execution_count": 47,
   "metadata": {
    "colab": {
     "base_uri": "https://localhost:8080/"
    },
    "id": "M_XJQoMOhjA9",
    "outputId": "a1e51daa-293e-4e77-b108-7f0994f6f9e8"
   },
   "outputs": [
    {
     "name": "stdout",
     "output_type": "stream",
     "text": [
      "<class 'pandas.core.frame.DataFrame'>\n",
      "Int64Index: 11327 entries, 0 to 11329\n",
      "Data columns (total 15 columns):\n",
      " #   Column         Non-Null Count  Dtype  \n",
      "---  ------         --------------  -----  \n",
      " 0   address        11327 non-null  object \n",
      " 1   z_address      11327 non-null  object \n",
      " 2   bathrooms      11327 non-null  float64\n",
      " 3   bedrooms       11327 non-null  float64\n",
      " 4   finishedsqft   11327 non-null  float64\n",
      " 5   lastsolddate   11327 non-null  object \n",
      " 6   lastsoldprice  11327 non-null  float64\n",
      " 7   latitude       11327 non-null  float64\n",
      " 8   longitude      11327 non-null  float64\n",
      " 9   neighborhood   11327 non-null  object \n",
      " 10  totalrooms     11327 non-null  float64\n",
      " 11  usecode        11327 non-null  object \n",
      " 12  yearbuilt      11327 non-null  float64\n",
      " 13  zestimate      11327 non-null  float64\n",
      " 14  zipcode        11327 non-null  float64\n",
      "dtypes: float64(10), object(5)\n",
      "memory usage: 1.6+ MB\n"
     ]
    }
   ],
   "source": [
    "data.info()"
   ]
  },
  {
   "cell_type": "code",
   "execution_count": 48,
   "metadata": {
    "colab": {
     "base_uri": "https://localhost:8080/",
     "height": 595
    },
    "id": "402x0gUIchmE",
    "outputId": "eaf37f8b-66f0-42c5-b7c3-37e10691468b"
   },
   "outputs": [
    {
     "data": {
      "text/html": [
       "<div>\n",
       "<style scoped>\n",
       "    .dataframe tbody tr th:only-of-type {\n",
       "        vertical-align: middle;\n",
       "    }\n",
       "\n",
       "    .dataframe tbody tr th {\n",
       "        vertical-align: top;\n",
       "    }\n",
       "\n",
       "    .dataframe thead th {\n",
       "        text-align: right;\n",
       "    }\n",
       "</style>\n",
       "<table border=\"1\" class=\"dataframe\">\n",
       "  <thead>\n",
       "    <tr style=\"text-align: right;\">\n",
       "      <th></th>\n",
       "      <th>address</th>\n",
       "      <th>z_address</th>\n",
       "      <th>bathrooms</th>\n",
       "      <th>bedrooms</th>\n",
       "      <th>finishedsqft</th>\n",
       "      <th>lastsolddate</th>\n",
       "      <th>lastsoldprice</th>\n",
       "      <th>latitude</th>\n",
       "      <th>longitude</th>\n",
       "      <th>neighborhood</th>\n",
       "      <th>...</th>\n",
       "      <th>usecode_Apartment</th>\n",
       "      <th>usecode_Condominium</th>\n",
       "      <th>usecode_Cooperative</th>\n",
       "      <th>usecode_Duplex</th>\n",
       "      <th>usecode_Miscellaneous</th>\n",
       "      <th>usecode_Mobile</th>\n",
       "      <th>usecode_MultiFamily2To4</th>\n",
       "      <th>usecode_MultiFamily5Plus</th>\n",
       "      <th>usecode_SingleFamily</th>\n",
       "      <th>usecode_Townhouse</th>\n",
       "    </tr>\n",
       "  </thead>\n",
       "  <tbody>\n",
       "    <tr>\n",
       "      <th>0</th>\n",
       "      <td>Address: 1160 Mission Street #2007</td>\n",
       "      <td>1160 Mission St UNIT 2007</td>\n",
       "      <td>2.0</td>\n",
       "      <td>2.0</td>\n",
       "      <td>1043.0</td>\n",
       "      <td>02/17/2016</td>\n",
       "      <td>1300000.0</td>\n",
       "      <td>37.778705</td>\n",
       "      <td>-122.412635</td>\n",
       "      <td>South of Market</td>\n",
       "      <td>...</td>\n",
       "      <td>0</td>\n",
       "      <td>1</td>\n",
       "      <td>0</td>\n",
       "      <td>0</td>\n",
       "      <td>0</td>\n",
       "      <td>0</td>\n",
       "      <td>0</td>\n",
       "      <td>0</td>\n",
       "      <td>0</td>\n",
       "      <td>0</td>\n",
       "    </tr>\n",
       "    <tr>\n",
       "      <th>1</th>\n",
       "      <td>Address: 260 King Street #475</td>\n",
       "      <td>260 King St UNIT 475</td>\n",
       "      <td>1.0</td>\n",
       "      <td>1.0</td>\n",
       "      <td>903.0</td>\n",
       "      <td>02/17/2016</td>\n",
       "      <td>750000.0</td>\n",
       "      <td>37.777641</td>\n",
       "      <td>-122.393417</td>\n",
       "      <td>South of Market</td>\n",
       "      <td>...</td>\n",
       "      <td>0</td>\n",
       "      <td>1</td>\n",
       "      <td>0</td>\n",
       "      <td>0</td>\n",
       "      <td>0</td>\n",
       "      <td>0</td>\n",
       "      <td>0</td>\n",
       "      <td>0</td>\n",
       "      <td>0</td>\n",
       "      <td>0</td>\n",
       "    </tr>\n",
       "    <tr>\n",
       "      <th>2</th>\n",
       "      <td>Address: 560 Missouri Street #B</td>\n",
       "      <td>560 Missouri St # B</td>\n",
       "      <td>4.0</td>\n",
       "      <td>3.0</td>\n",
       "      <td>1425.0</td>\n",
       "      <td>02/17/2016</td>\n",
       "      <td>1495000.0</td>\n",
       "      <td>37.759198</td>\n",
       "      <td>-122.396516</td>\n",
       "      <td>Potrero Hill</td>\n",
       "      <td>...</td>\n",
       "      <td>0</td>\n",
       "      <td>1</td>\n",
       "      <td>0</td>\n",
       "      <td>0</td>\n",
       "      <td>0</td>\n",
       "      <td>0</td>\n",
       "      <td>0</td>\n",
       "      <td>0</td>\n",
       "      <td>0</td>\n",
       "      <td>0</td>\n",
       "    </tr>\n",
       "    <tr>\n",
       "      <th>3</th>\n",
       "      <td>Address: 350 Missouri Street</td>\n",
       "      <td>350 Missouri St</td>\n",
       "      <td>3.0</td>\n",
       "      <td>3.0</td>\n",
       "      <td>2231.0</td>\n",
       "      <td>02/17/2016</td>\n",
       "      <td>2700000.0</td>\n",
       "      <td>37.761886</td>\n",
       "      <td>-122.396769</td>\n",
       "      <td>Potrero Hill</td>\n",
       "      <td>...</td>\n",
       "      <td>0</td>\n",
       "      <td>0</td>\n",
       "      <td>0</td>\n",
       "      <td>0</td>\n",
       "      <td>0</td>\n",
       "      <td>0</td>\n",
       "      <td>0</td>\n",
       "      <td>0</td>\n",
       "      <td>1</td>\n",
       "      <td>0</td>\n",
       "    </tr>\n",
       "    <tr>\n",
       "      <th>4</th>\n",
       "      <td>Address: 3658 Folsom Street</td>\n",
       "      <td>3658 Folsom St</td>\n",
       "      <td>3.0</td>\n",
       "      <td>3.0</td>\n",
       "      <td>1300.0</td>\n",
       "      <td>02/17/2016</td>\n",
       "      <td>1530000.0</td>\n",
       "      <td>37.740795</td>\n",
       "      <td>-122.413453</td>\n",
       "      <td>Bernal Heights</td>\n",
       "      <td>...</td>\n",
       "      <td>0</td>\n",
       "      <td>0</td>\n",
       "      <td>0</td>\n",
       "      <td>0</td>\n",
       "      <td>0</td>\n",
       "      <td>0</td>\n",
       "      <td>0</td>\n",
       "      <td>0</td>\n",
       "      <td>1</td>\n",
       "      <td>0</td>\n",
       "    </tr>\n",
       "  </tbody>\n",
       "</table>\n",
       "<p>5 rows × 24 columns</p>\n",
       "</div>"
      ],
      "text/plain": [
       "                              address                  z_address  bathrooms  \\\n",
       "0  Address: 1160 Mission Street #2007  1160 Mission St UNIT 2007        2.0   \n",
       "1       Address: 260 King Street #475       260 King St UNIT 475        1.0   \n",
       "2     Address: 560 Missouri Street #B        560 Missouri St # B        4.0   \n",
       "3        Address: 350 Missouri Street            350 Missouri St        3.0   \n",
       "4         Address: 3658 Folsom Street             3658 Folsom St        3.0   \n",
       "\n",
       "   bedrooms  finishedsqft lastsolddate  lastsoldprice   latitude   longitude  \\\n",
       "0       2.0        1043.0   02/17/2016      1300000.0  37.778705 -122.412635   \n",
       "1       1.0         903.0   02/17/2016       750000.0  37.777641 -122.393417   \n",
       "2       3.0        1425.0   02/17/2016      1495000.0  37.759198 -122.396516   \n",
       "3       3.0        2231.0   02/17/2016      2700000.0  37.761886 -122.396769   \n",
       "4       3.0        1300.0   02/17/2016      1530000.0  37.740795 -122.413453   \n",
       "\n",
       "      neighborhood  ...  usecode_Apartment  usecode_Condominium  \\\n",
       "0  South of Market  ...                  0                    1   \n",
       "1  South of Market  ...                  0                    1   \n",
       "2     Potrero Hill  ...                  0                    1   \n",
       "3     Potrero Hill  ...                  0                    0   \n",
       "4   Bernal Heights  ...                  0                    0   \n",
       "\n",
       "   usecode_Cooperative  usecode_Duplex  usecode_Miscellaneous  usecode_Mobile  \\\n",
       "0                    0               0                      0               0   \n",
       "1                    0               0                      0               0   \n",
       "2                    0               0                      0               0   \n",
       "3                    0               0                      0               0   \n",
       "4                    0               0                      0               0   \n",
       "\n",
       "   usecode_MultiFamily2To4  usecode_MultiFamily5Plus  usecode_SingleFamily  \\\n",
       "0                        0                         0                     0   \n",
       "1                        0                         0                     0   \n",
       "2                        0                         0                     0   \n",
       "3                        0                         0                     1   \n",
       "4                        0                         0                     1   \n",
       "\n",
       "   usecode_Townhouse  \n",
       "0                  0  \n",
       "1                  0  \n",
       "2                  0  \n",
       "3                  0  \n",
       "4                  0  \n",
       "\n",
       "[5 rows x 24 columns]"
      ]
     },
     "execution_count": 48,
     "metadata": {},
     "output_type": "execute_result"
    }
   ],
   "source": [
    "data = pd.get_dummies(data, columns=['usecode'])\n",
    "data.head()"
   ]
  },
  {
   "cell_type": "markdown",
   "metadata": {
    "id": "N_3zsrgmhjA9"
   },
   "source": [
    "Видим, что итоговый результат улучшился на 3%."
   ]
  },
  {
   "cell_type": "code",
   "execution_count": 49,
   "metadata": {
    "colab": {
     "base_uri": "https://localhost:8080/"
    },
    "id": "gYA0-536hjA-",
    "outputId": "6f7e55b4-40fb-4926-dde2-1a2a27098a9b"
   },
   "outputs": [
    {
     "data": {
      "text/plain": [
       "0.8522566498258113"
      ]
     },
     "execution_count": 49,
     "metadata": {},
     "output_type": "execute_result"
    }
   ],
   "source": [
    "cols_to_drop = ['address', 'z_address', 'lastsolddate', 'neighborhood', 'zestimate', 'zipcode']\n",
    "get_score(data.dropna()[cols], data.dropna()[target])"
   ]
  },
  {
   "cell_type": "markdown",
   "metadata": {
    "id": "kAc9bvMGhjA-"
   },
   "source": [
    "#### Summary\n",
    "\n",
    "Первичный визуальный анализ данных очень важен для выявления выбросов/шума, корреляций между признаками, что может значительно ухудшить эффективность модели. Не стоит сразу удалять столбец или строку, если в ней пропущенное значение, это может повлечь потерю информации. В зависимости от ситуации, пропуск можно заменить медианой, средним, модой или индикатором."
   ]
  }
 ],
 "metadata": {
  "colab": {
   "collapsed_sections": [],
   "provenance": [],
   "toc_visible": true
  },
  "kernelspec": {
   "display_name": "Python 3 (ipykernel)",
   "language": "python",
   "name": "python3"
  },
  "language_info": {
   "codemirror_mode": {
    "name": "ipython",
    "version": 3
   },
   "file_extension": ".py",
   "mimetype": "text/x-python",
   "name": "python",
   "nbconvert_exporter": "python",
   "pygments_lexer": "ipython3",
   "version": "3.10.11"
  }
 },
 "nbformat": 4,
 "nbformat_minor": 1
}
